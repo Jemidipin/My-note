{
 "cells": [
  {
   "cell_type": "markdown",
   "id": "82029365-db4a-47d7-af59-49d28eb3ce5b",
   "metadata": {},
   "source": [
    "# Numpy\n",
    "##  1. BasicArrayOperations\n",
    "### Convert the mpg column into a NumPy array and calculate:\n",
    "* #### The mean,median,and standard deviation of mpg.\n",
    "* #### The number of cars with mpg greaterthan 25."
   ]
  },
  {
   "cell_type": "code",
   "execution_count": 13,
   "id": "578939d5-a51d-461d-9dfe-2f9a7d68baff",
   "metadata": {},
   "outputs": [],
   "source": [
    "import numpy as np\n",
    "import pandas as pd"
   ]
  },
  {
   "cell_type": "code",
   "execution_count": 21,
   "id": "cbce065c-e0d9-47d1-a768-ec27d80ef512",
   "metadata": {},
   "outputs": [
    {
     "data": {
      "text/html": [
       "<div>\n",
       "<style scoped>\n",
       "    .dataframe tbody tr th:only-of-type {\n",
       "        vertical-align: middle;\n",
       "    }\n",
       "\n",
       "    .dataframe tbody tr th {\n",
       "        vertical-align: top;\n",
       "    }\n",
       "\n",
       "    .dataframe thead th {\n",
       "        text-align: right;\n",
       "    }\n",
       "</style>\n",
       "<table border=\"1\" class=\"dataframe\">\n",
       "  <thead>\n",
       "    <tr style=\"text-align: right;\">\n",
       "      <th></th>\n",
       "      <th>mpg</th>\n",
       "      <th>cylinders</th>\n",
       "      <th>displacement</th>\n",
       "      <th>horsepower</th>\n",
       "      <th>weight</th>\n",
       "      <th>acceleration</th>\n",
       "      <th>model year</th>\n",
       "      <th>origin</th>\n",
       "      <th>car name</th>\n",
       "    </tr>\n",
       "  </thead>\n",
       "  <tbody>\n",
       "    <tr>\n",
       "      <th>0</th>\n",
       "      <td>18.0</td>\n",
       "      <td>8</td>\n",
       "      <td>307.0</td>\n",
       "      <td>130</td>\n",
       "      <td>3504</td>\n",
       "      <td>12.0</td>\n",
       "      <td>70</td>\n",
       "      <td>1</td>\n",
       "      <td>chevrolet chevelle malibu</td>\n",
       "    </tr>\n",
       "    <tr>\n",
       "      <th>1</th>\n",
       "      <td>15.0</td>\n",
       "      <td>8</td>\n",
       "      <td>350.0</td>\n",
       "      <td>165</td>\n",
       "      <td>3693</td>\n",
       "      <td>11.5</td>\n",
       "      <td>70</td>\n",
       "      <td>1</td>\n",
       "      <td>buick skylark 320</td>\n",
       "    </tr>\n",
       "    <tr>\n",
       "      <th>2</th>\n",
       "      <td>18.0</td>\n",
       "      <td>8</td>\n",
       "      <td>318.0</td>\n",
       "      <td>150</td>\n",
       "      <td>3436</td>\n",
       "      <td>11.0</td>\n",
       "      <td>70</td>\n",
       "      <td>1</td>\n",
       "      <td>plymouth satellite</td>\n",
       "    </tr>\n",
       "    <tr>\n",
       "      <th>3</th>\n",
       "      <td>16.0</td>\n",
       "      <td>8</td>\n",
       "      <td>304.0</td>\n",
       "      <td>150</td>\n",
       "      <td>3433</td>\n",
       "      <td>12.0</td>\n",
       "      <td>70</td>\n",
       "      <td>1</td>\n",
       "      <td>amc rebel sst</td>\n",
       "    </tr>\n",
       "    <tr>\n",
       "      <th>4</th>\n",
       "      <td>17.0</td>\n",
       "      <td>8</td>\n",
       "      <td>302.0</td>\n",
       "      <td>140</td>\n",
       "      <td>3449</td>\n",
       "      <td>10.5</td>\n",
       "      <td>70</td>\n",
       "      <td>1</td>\n",
       "      <td>ford torino</td>\n",
       "    </tr>\n",
       "    <tr>\n",
       "      <th>...</th>\n",
       "      <td>...</td>\n",
       "      <td>...</td>\n",
       "      <td>...</td>\n",
       "      <td>...</td>\n",
       "      <td>...</td>\n",
       "      <td>...</td>\n",
       "      <td>...</td>\n",
       "      <td>...</td>\n",
       "      <td>...</td>\n",
       "    </tr>\n",
       "    <tr>\n",
       "      <th>393</th>\n",
       "      <td>27.0</td>\n",
       "      <td>4</td>\n",
       "      <td>140.0</td>\n",
       "      <td>86</td>\n",
       "      <td>2790</td>\n",
       "      <td>15.6</td>\n",
       "      <td>82</td>\n",
       "      <td>1</td>\n",
       "      <td>ford mustang gl</td>\n",
       "    </tr>\n",
       "    <tr>\n",
       "      <th>394</th>\n",
       "      <td>44.0</td>\n",
       "      <td>4</td>\n",
       "      <td>97.0</td>\n",
       "      <td>52</td>\n",
       "      <td>2130</td>\n",
       "      <td>24.6</td>\n",
       "      <td>82</td>\n",
       "      <td>2</td>\n",
       "      <td>vw pickup</td>\n",
       "    </tr>\n",
       "    <tr>\n",
       "      <th>395</th>\n",
       "      <td>32.0</td>\n",
       "      <td>4</td>\n",
       "      <td>135.0</td>\n",
       "      <td>84</td>\n",
       "      <td>2295</td>\n",
       "      <td>11.6</td>\n",
       "      <td>82</td>\n",
       "      <td>1</td>\n",
       "      <td>dodge rampage</td>\n",
       "    </tr>\n",
       "    <tr>\n",
       "      <th>396</th>\n",
       "      <td>28.0</td>\n",
       "      <td>4</td>\n",
       "      <td>120.0</td>\n",
       "      <td>79</td>\n",
       "      <td>2625</td>\n",
       "      <td>18.6</td>\n",
       "      <td>82</td>\n",
       "      <td>1</td>\n",
       "      <td>ford ranger</td>\n",
       "    </tr>\n",
       "    <tr>\n",
       "      <th>397</th>\n",
       "      <td>31.0</td>\n",
       "      <td>4</td>\n",
       "      <td>119.0</td>\n",
       "      <td>82</td>\n",
       "      <td>2720</td>\n",
       "      <td>19.4</td>\n",
       "      <td>82</td>\n",
       "      <td>1</td>\n",
       "      <td>chevy s-10</td>\n",
       "    </tr>\n",
       "  </tbody>\n",
       "</table>\n",
       "<p>398 rows × 9 columns</p>\n",
       "</div>"
      ],
      "text/plain": [
       "      mpg  cylinders  displacement horsepower  weight  acceleration  \\\n",
       "0    18.0          8         307.0        130    3504          12.0   \n",
       "1    15.0          8         350.0        165    3693          11.5   \n",
       "2    18.0          8         318.0        150    3436          11.0   \n",
       "3    16.0          8         304.0        150    3433          12.0   \n",
       "4    17.0          8         302.0        140    3449          10.5   \n",
       "..    ...        ...           ...        ...     ...           ...   \n",
       "393  27.0          4         140.0         86    2790          15.6   \n",
       "394  44.0          4          97.0         52    2130          24.6   \n",
       "395  32.0          4         135.0         84    2295          11.6   \n",
       "396  28.0          4         120.0         79    2625          18.6   \n",
       "397  31.0          4         119.0         82    2720          19.4   \n",
       "\n",
       "     model year  origin                   car name  \n",
       "0            70       1  chevrolet chevelle malibu  \n",
       "1            70       1          buick skylark 320  \n",
       "2            70       1         plymouth satellite  \n",
       "3            70       1              amc rebel sst  \n",
       "4            70       1                ford torino  \n",
       "..          ...     ...                        ...  \n",
       "393          82       1            ford mustang gl  \n",
       "394          82       2                  vw pickup  \n",
       "395          82       1              dodge rampage  \n",
       "396          82       1                ford ranger  \n",
       "397          82       1                 chevy s-10  \n",
       "\n",
       "[398 rows x 9 columns]"
      ]
     },
     "execution_count": 21,
     "metadata": {},
     "output_type": "execute_result"
    }
   ],
   "source": [
    "df= pd.read_csv(\"D:\\\\ICT_DataScience\\\\auto-mpg.csv\")\n",
    "df"
   ]
  },
  {
   "cell_type": "code",
   "execution_count": 32,
   "id": "720e0741-cca3-4a2b-ba42-697cc12fd0f7",
   "metadata": {},
   "outputs": [
    {
     "data": {
      "text/plain": [
       "array([18. , 15. , 18. , 16. , 17. , 15. , 14. , 14. , 14. , 15. , 15. ,\n",
       "       14. , 15. , 14. , 24. , 22. , 18. , 21. , 27. , 26. , 25. , 24. ,\n",
       "       25. , 26. , 21. , 10. , 10. , 11. ,  9. , 27. , 28. , 25. , 25. ,\n",
       "       19. , 16. , 17. , 19. , 18. , 14. , 14. , 14. , 14. , 12. , 13. ,\n",
       "       13. , 18. , 22. , 19. , 18. , 23. , 28. , 30. , 30. , 31. , 35. ,\n",
       "       27. , 26. , 24. , 25. , 23. , 20. , 21. , 13. , 14. , 15. , 14. ,\n",
       "       17. , 11. , 13. , 12. , 13. , 19. , 15. , 13. , 13. , 14. , 18. ,\n",
       "       22. , 21. , 26. , 22. , 28. , 23. , 28. , 27. , 13. , 14. , 13. ,\n",
       "       14. , 15. , 12. , 13. , 13. , 14. , 13. , 12. , 13. , 18. , 16. ,\n",
       "       18. , 18. , 23. , 26. , 11. , 12. , 13. , 12. , 18. , 20. , 21. ,\n",
       "       22. , 18. , 19. , 21. , 26. , 15. , 16. , 29. , 24. , 20. , 19. ,\n",
       "       15. , 24. , 20. , 11. , 20. , 21. , 19. , 15. , 31. , 26. , 32. ,\n",
       "       25. , 16. , 16. , 18. , 16. , 13. , 14. , 14. , 14. , 29. , 26. ,\n",
       "       26. , 31. , 32. , 28. , 24. , 26. , 24. , 26. , 31. , 19. , 18. ,\n",
       "       15. , 15. , 16. , 15. , 16. , 14. , 17. , 16. , 15. , 18. , 21. ,\n",
       "       20. , 13. , 29. , 23. , 20. , 23. , 24. , 25. , 24. , 18. , 29. ,\n",
       "       19. , 23. , 23. , 22. , 25. , 33. , 28. , 25. , 25. , 26. , 27. ,\n",
       "       17.5, 16. , 15.5, 14.5, 22. , 22. , 24. , 22.5, 29. , 24.5, 29. ,\n",
       "       33. , 20. , 18. , 18.5, 17.5, 29.5, 32. , 28. , 26.5, 20. , 13. ,\n",
       "       19. , 19. , 16.5, 16.5, 13. , 13. , 13. , 31.5, 30. , 36. , 25.5,\n",
       "       33.5, 17.5, 17. , 15.5, 15. , 17.5, 20.5, 19. , 18.5, 16. , 15.5,\n",
       "       15.5, 16. , 29. , 24.5, 26. , 25.5, 30.5, 33.5, 30. , 30.5, 22. ,\n",
       "       21.5, 21.5, 43.1, 36.1, 32.8, 39.4, 36.1, 19.9, 19.4, 20.2, 19.2,\n",
       "       20.5, 20.2, 25.1, 20.5, 19.4, 20.6, 20.8, 18.6, 18.1, 19.2, 17.7,\n",
       "       18.1, 17.5, 30. , 27.5, 27.2, 30.9, 21.1, 23.2, 23.8, 23.9, 20.3,\n",
       "       17. , 21.6, 16.2, 31.5, 29.5, 21.5, 19.8, 22.3, 20.2, 20.6, 17. ,\n",
       "       17.6, 16.5, 18.2, 16.9, 15.5, 19.2, 18.5, 31.9, 34.1, 35.7, 27.4,\n",
       "       25.4, 23. , 27.2, 23.9, 34.2, 34.5, 31.8, 37.3, 28.4, 28.8, 26.8,\n",
       "       33.5, 41.5, 38.1, 32.1, 37.2, 28. , 26.4, 24.3, 19.1, 34.3, 29.8,\n",
       "       31.3, 37. , 32.2, 46.6, 27.9, 40.8, 44.3, 43.4, 36.4, 30. , 44.6,\n",
       "       40.9, 33.8, 29.8, 32.7, 23.7, 35. , 23.6, 32.4, 27.2, 26.6, 25.8,\n",
       "       23.5, 30. , 39.1, 39. , 35.1, 32.3, 37. , 37.7, 34.1, 34.7, 34.4,\n",
       "       29.9, 33. , 34.5, 33.7, 32.4, 32.9, 31.6, 28.1, 30.7, 25.4, 24.2,\n",
       "       22.4, 26.6, 20.2, 17.6, 28. , 27. , 34. , 31. , 29. , 27. , 24. ,\n",
       "       23. , 36. , 37. , 31. , 38. , 36. , 36. , 36. , 34. , 38. , 32. ,\n",
       "       38. , 25. , 38. , 26. , 22. , 32. , 36. , 27. , 27. , 44. , 32. ,\n",
       "       28. , 31. ])"
      ]
     },
     "execution_count": 32,
     "metadata": {},
     "output_type": "execute_result"
    }
   ],
   "source": [
    "np.array(df[\"mpg\"])"
   ]
  },
  {
   "cell_type": "code",
   "execution_count": 44,
   "id": "b11183c1-f2ff-4a19-8804-356d627648fb",
   "metadata": {},
   "outputs": [
    {
     "data": {
      "text/plain": [
       "23.514572864321607"
      ]
     },
     "execution_count": 44,
     "metadata": {},
     "output_type": "execute_result"
    }
   ],
   "source": [
    "mean=np.mean(mpg)\n",
    "mean"
   ]
  },
  {
   "cell_type": "code",
   "execution_count": 38,
   "id": "623424b9-0c5c-4030-8e45-f66ea5682878",
   "metadata": {},
   "outputs": [
    {
     "data": {
      "text/plain": [
       "23.0"
      ]
     },
     "execution_count": 38,
     "metadata": {},
     "output_type": "execute_result"
    }
   ],
   "source": [
    "median=np.median(mpg)\n",
    "median"
   ]
  },
  {
   "cell_type": "code",
   "execution_count": 40,
   "id": "3be99161-7878-429b-b712-016cdc7efe33",
   "metadata": {},
   "outputs": [
    {
     "data": {
      "text/plain": [
       "7.806159061274433"
      ]
     },
     "execution_count": 40,
     "metadata": {},
     "output_type": "execute_result"
    }
   ],
   "source": [
    "std=np.std(mpg)\n",
    "std"
   ]
  },
  {
   "cell_type": "code",
   "execution_count": 60,
   "id": "492a5ca4-029a-4952-8c21-00e11dc03cdc",
   "metadata": {},
   "outputs": [
    {
     "data": {
      "text/plain": [
       "158"
      ]
     },
     "execution_count": 60,
     "metadata": {},
     "output_type": "execute_result"
    }
   ],
   "source": [
    "np.sum(df.mpg.values>25)"
   ]
  },
  {
   "cell_type": "markdown",
   "id": "c661474d-99ed-46a1-8f1e-0647a0002101",
   "metadata": {},
   "source": [
    "### 2.Filtering\n",
    "* #### Using NumPy,filter all cars with morethan 6cylinders.\n",
    "* #### Return the corresponding car_name as a list."
   ]
  },
  {
   "cell_type": "code",
   "execution_count": 136,
   "id": "27131499-2e10-4bab-a4bd-c95a57c7b6c2",
   "metadata": {},
   "outputs": [
    {
     "data": {
      "text/plain": [
       "array(['chevrolet chevelle malibu', 'buick skylark 320',\n",
       "       'plymouth satellite', 'amc rebel sst', 'ford torino',\n",
       "       'ford galaxie 500', 'chevrolet impala', 'plymouth fury iii',\n",
       "       'pontiac catalina', 'amc ambassador dpl', 'dodge challenger se',\n",
       "       \"plymouth 'cuda 340\", 'chevrolet monte carlo',\n",
       "       'buick estate wagon (sw)', 'ford f250', 'chevy c20', 'dodge d200',\n",
       "       'hi 1200d', 'pontiac catalina brougham', 'dodge monaco (sw)',\n",
       "       'ford country squire (sw)', 'pontiac safari (sw)',\n",
       "       'amc ambassador sst', 'mercury marquis', 'buick lesabre custom',\n",
       "       'oldsmobile delta 88 royale', 'chrysler newport royal',\n",
       "       'amc matador (sw)', 'chevrolet chevelle concours (sw)',\n",
       "       'ford gran torino (sw)', 'plymouth satellite custom (sw)',\n",
       "       'buick century 350', 'amc matador', 'chevrolet malibu',\n",
       "       'ford gran torino', 'dodge coronet custom',\n",
       "       'mercury marquis brougham', 'chevrolet caprice classic',\n",
       "       'ford ltd', 'plymouth fury gran sedan',\n",
       "       'chrysler new yorker brougham', 'buick electra 225 custom',\n",
       "       'amc ambassador brougham', 'ford country',\n",
       "       'plymouth custom suburb', 'oldsmobile vista cruiser',\n",
       "       'chevrolet monte carlo s', 'pontiac grand prix',\n",
       "       'dodge dart custom', 'oldsmobile omega',\n",
       "       'buick century luxus (sw)', 'dodge coronet custom (sw)',\n",
       "       'chevrolet bel air', 'plymouth grand fury', 'chevrolet monza 2+2',\n",
       "       'ford mustang ii', 'chevrolet chevelle malibu classic',\n",
       "       'dodge coronet brougham', 'plymouth volare premier v8',\n",
       "       'cadillac seville', 'chevy c10', 'ford f108', 'dodge d100',\n",
       "       'oldsmobile cutlass supreme', 'dodge monaco brougham',\n",
       "       'mercury cougar brougham', 'pontiac grand prix lj',\n",
       "       'chevrolet monte carlo landau', 'chrysler cordoba',\n",
       "       'ford thunderbird', 'oldsmobile cutlass salon brougham',\n",
       "       'dodge diplomat', 'mercury monarch ghia', 'ford futura',\n",
       "       'dodge magnum xe', 'ford ltd landau', 'mercury grand marquis',\n",
       "       'dodge st. regis', 'chevrolet malibu classic (sw)',\n",
       "       'chrysler lebaron town @ country (sw)', 'cadillac eldorado',\n",
       "       'oldsmobile cutlass ls'], dtype=object)"
      ]
     },
     "execution_count": 136,
     "metadata": {},
     "output_type": "execute_result"
    }
   ],
   "source": [
    "x=np.array(df.cylinders>6)\n",
    "df[x][\"car name\"].unique()"
   ]
  },
  {
   "cell_type": "markdown",
   "id": "7f0e2148-55d8-4775-b233-83d695f45866",
   "metadata": {},
   "source": [
    "### 3.Statistical Analysis\n",
    "#### Compute the 25th,50th,and 75th percentiles of the weight column usingNumPy"
   ]
  },
  {
   "cell_type": "code",
   "execution_count": 115,
   "id": "452421d3-1a99-43db-9503-5d5c239692eb",
   "metadata": {},
   "outputs": [
    {
     "name": "stdout",
     "output_type": "stream",
     "text": [
      "25th percentile: 2223.75\n",
      "50th percentile: 2803.5\n",
      "75th percentile: 3608.0\n"
     ]
    }
   ],
   "source": [
    "np.array(df[\"weight\"])\n",
    "print(\"25th percentile:\",np.percentile(df.weight,25))\n",
    "print(\"50th percentile:\",np.percentile(df.weight,50))\n",
    "print(\"75th percentile:\",np.percentile(df.weight,75))\n"
   ]
  },
  {
   "cell_type": "markdown",
   "id": "cd4e8613-1330-4e00-9b8b-4c7043522984",
   "metadata": {},
   "source": [
    "### 4.ArrayManipulation\n",
    "#### Convert the acceleration column into a NumPy array and normalize its values\n",
    "#### (scale between 0 and 1)"
   ]
  },
  {
   "cell_type": "code",
   "execution_count": 125,
   "id": "bab32ff9-b4b9-4654-a531-ec159090c1a0",
   "metadata": {},
   "outputs": [
    {
     "data": {
      "text/plain": [
       "array([0.23809524, 0.20833333, 0.17857143, 0.23809524, 0.14880952,\n",
       "       0.11904762, 0.05952381, 0.0297619 , 0.11904762, 0.0297619 ,\n",
       "       0.11904762, 0.        , 0.08928571, 0.11904762, 0.41666667,\n",
       "       0.44642857, 0.44642857, 0.47619048, 0.38690476, 0.74404762,\n",
       "       0.56547619, 0.38690476, 0.56547619, 0.26785714, 0.41666667,\n",
       "       0.35714286, 0.41666667, 0.32738095, 0.625     , 0.38690476,\n",
       "       0.44642857, 0.35714286, 0.6547619 , 0.29761905, 0.44642857,\n",
       "       0.44642857, 0.44642857, 0.44642857, 0.23809524, 0.20833333,\n",
       "       0.32738095, 0.29761905, 0.20833333, 0.23809524, 0.23809524,\n",
       "       0.32738095, 0.6547619 , 0.41666667, 0.38690476, 0.35714286,\n",
       "       0.35714286, 0.68452381, 0.38690476, 0.6547619 , 0.5952381 ,\n",
       "       0.6547619 , 0.74404762, 0.44642857, 0.53571429, 0.92261905,\n",
       "       0.68452381, 0.50595238, 0.23809524, 0.23809524, 0.32738095,\n",
       "       0.29761905, 0.20833333, 0.17857143, 0.32738095, 0.32738095,\n",
       "       0.26785714, 0.32738095, 0.26785714, 0.35714286, 0.47619048,\n",
       "       0.35714286, 0.38690476, 0.5952381 , 0.68452381, 0.5952381 ,\n",
       "       0.47619048, 0.53571429, 0.38690476, 0.41666667, 0.50595238,\n",
       "       0.29761905, 0.20833333, 0.29761905, 0.38690476, 0.26785714,\n",
       "       0.20833333, 0.23809524, 0.29761905, 0.38690476, 0.17857143,\n",
       "       0.17857143, 0.17857143, 0.50595238, 0.5952381 , 0.47619048,\n",
       "       0.50595238, 0.47619048, 0.77380952, 0.35714286, 0.26785714,\n",
       "       0.29761905, 0.26785714, 0.41666667, 0.6547619 , 0.68452381,\n",
       "       0.50595238, 0.32738095, 0.625     , 0.35714286, 0.44642857,\n",
       "       0.29761905, 0.08928571, 0.68452381, 0.44642857, 0.35714286,\n",
       "       0.44642857, 0.17857143, 0.35714286, 0.32738095, 0.17857143,\n",
       "       0.50595238, 0.53571429, 0.47619048, 0.53571429, 0.6547619 ,\n",
       "       0.50595238, 0.77380952, 0.53571429, 0.53571429, 0.5952381 ,\n",
       "       0.50595238, 0.35714286, 0.38690476, 0.32738095, 0.47619048,\n",
       "       0.44642857, 0.50595238, 0.44642857, 0.38690476, 0.50595238,\n",
       "       0.6547619 , 0.38690476, 0.44642857, 0.35714286, 0.41666667,\n",
       "       0.44642857, 0.47619048, 0.47619048, 0.47619048, 0.77380952,\n",
       "       0.68452381, 0.20833333, 0.35714286, 0.38690476, 0.32738095,\n",
       "       0.77380952, 0.625     , 0.6547619 , 0.6547619 , 0.41666667,\n",
       "       0.32738095, 0.23809524, 0.47619048, 0.53571429, 0.47619048,\n",
       "       0.625     , 0.32738095, 0.50595238, 0.53571429, 0.38690476,\n",
       "       0.35714286, 0.53571429, 0.41666667, 0.53571429, 0.38690476,\n",
       "       0.32738095, 0.56547619, 0.44642857, 0.5297619 , 0.41071429,\n",
       "       0.57738095, 0.43452381, 0.29761905, 0.29761905, 0.35119048,\n",
       "       0.28571429, 0.44047619, 0.38690476, 0.57142857, 0.57142857,\n",
       "       0.8452381 , 0.83928571, 0.36904762, 0.55952381, 0.57738095,\n",
       "       0.77380952, 0.48809524, 0.58333333, 0.25      , 0.53571429,\n",
       "       0.5       , 0.33333333, 0.45833333, 0.30952381, 0.82738095,\n",
       "       0.44642857, 0.51785714, 0.24404762, 0.23809524, 0.41666667,\n",
       "       0.35714286, 0.625     , 0.4047619 , 0.63095238, 0.44642857,\n",
       "       0.52380952, 0.26785714, 0.6547619 , 0.33928571, 0.41071429,\n",
       "       0.5       , 0.5297619 , 0.57738095, 0.6547619 , 0.18452381,\n",
       "       0.20238095, 0.25      , 0.38690476, 0.38690476, 0.47619048,\n",
       "       0.60714286, 0.46428571, 0.53571429, 0.4702381 , 0.5       ,\n",
       "       0.36309524, 0.38690476, 0.28571429, 0.32738095, 0.80357143,\n",
       "       0.38095238, 0.67857143, 0.63095238, 0.5       , 0.44642857,\n",
       "       0.30952381, 0.28571429, 0.66666667, 0.60714286, 0.46428571,\n",
       "       0.44047619, 0.54761905, 0.54761905, 0.46428571, 0.51785714,\n",
       "       0.63690476, 0.42261905, 0.30952381, 0.32142857, 0.19047619,\n",
       "       0.33928571, 0.50595238, 0.36904762, 0.39880952, 0.38690476,\n",
       "       0.4047619 , 0.51785714, 0.57142857, 0.41071429, 0.4702381 ,\n",
       "       0.33333333, 0.45833333, 0.46428571, 0.41071429, 0.51190476,\n",
       "       0.44047619, 0.60714286, 0.55357143, 0.60714286, 0.51190476,\n",
       "       0.44047619, 0.32142857, 0.30952381, 0.42857143, 0.41071429,\n",
       "       0.375     , 0.41666667, 0.29761905, 0.35714286, 0.42857143,\n",
       "       0.38095238, 0.41666667, 0.7202381 , 0.55952381, 1.        ,\n",
       "       0.8452381 , 0.30952381, 0.41071429, 0.66666667, 0.39880952,\n",
       "       0.47619048, 0.19642857, 0.29166667, 0.30952381, 0.39880952,\n",
       "       0.64285714, 0.44642857, 0.5       , 0.50595238, 0.60119048,\n",
       "       0.7202381 , 0.63690476, 0.46428571, 0.44642857, 0.56547619,\n",
       "       0.41666667, 0.42857143, 0.58928571, 0.38095238, 0.66666667,\n",
       "       0.81547619, 0.93452381, 0.70833333, 0.82142857, 0.3452381 ,\n",
       "       0.55357143, 0.5952381 , 0.43452381, 0.20238095, 0.26785714,\n",
       "       0.42261905, 0.375     , 0.53571429, 0.45833333, 0.5       ,\n",
       "       0.38095238, 0.27380952, 0.29166667, 0.5297619 , 0.5       ,\n",
       "       0.48214286, 0.58333333, 0.67857143, 0.55357143, 0.47619048,\n",
       "       0.41071429, 0.48809524, 0.75595238, 0.36904762, 0.46428571,\n",
       "       0.38095238, 0.52380952, 0.4047619 , 0.61309524, 0.73809524,\n",
       "       0.69047619, 0.27380952, 0.3452381 , 0.46428571, 0.6547619 ,\n",
       "       0.54166667, 0.51190476, 0.69047619, 0.63095238, 0.5952381 ,\n",
       "       0.48809524, 0.47619048, 0.5952381 , 0.5       , 0.74404762,\n",
       "       0.43452381, 0.60714286, 0.57142857, 0.39880952, 0.55357143,\n",
       "       0.38690476, 0.38690476, 0.5297619 , 0.41666667, 0.45833333,\n",
       "       0.48809524, 0.5       , 0.53571429, 0.38690476, 0.39880952,\n",
       "       0.35119048, 0.29761905, 0.55357143, 0.45238095, 0.98809524,\n",
       "       0.21428571, 0.63095238, 0.67857143])"
      ]
     },
     "execution_count": 125,
     "metadata": {},
     "output_type": "execute_result"
    }
   ],
   "source": [
    "Acc=np.array(df[\"acceleration\"])\n",
    "Acc\n",
    "normalized_value=(Acc-np.min(Acc))/(np.max(Acc)-np.min(Acc))\n",
    "normalized_value\n"
   ]
  },
  {
   "cell_type": "markdown",
   "id": "e0c681f0-40eb-4e31-9eb6-4fb879557061",
   "metadata": {},
   "source": [
    "### Broadcasting\n",
    "#### Increase all horsepower values by 10% and store the updated values in a new NumPyarray.\n",
    "#### Handle missing data(ifany) by replacing it with the mean of the column before applying the increase."
   ]
  },
  {
   "cell_type": "code",
   "execution_count": 1,
   "id": "6d4f1d7b-cca9-4e72-9680-a6aeaa591991",
   "metadata": {},
   "outputs": [
    {
     "ename": "NameError",
     "evalue": "name 'np' is not defined",
     "output_type": "error",
     "traceback": [
      "\u001b[1;31m---------------------------------------------------------------------------\u001b[0m",
      "\u001b[1;31mNameError\u001b[0m                                 Traceback (most recent call last)",
      "Cell \u001b[1;32mIn[1], line 1\u001b[0m\n\u001b[1;32m----> 1\u001b[0m np\u001b[38;5;241m.\u001b[39marray([\u001b[38;5;124m\"\u001b[39m\u001b[38;5;124mhorsepower\u001b[39m\u001b[38;5;124m\"\u001b[39m])\n",
      "\u001b[1;31mNameError\u001b[0m: name 'np' is not defined"
     ]
    }
   ],
   "source": [
    "np.array([\"horsepower\"])"
   ]
  },
  {
   "cell_type": "code",
   "execution_count": null,
   "id": "fb171e3c-2a07-41a0-8e37-1d549634ebfd",
   "metadata": {},
   "outputs": [],
   "source": []
  }
 ],
 "metadata": {
  "kernelspec": {
   "display_name": "Python 3 (ipykernel)",
   "language": "python",
   "name": "python3"
  },
  "language_info": {
   "codemirror_mode": {
    "name": "ipython",
    "version": 3
   },
   "file_extension": ".py",
   "mimetype": "text/x-python",
   "name": "python",
   "nbconvert_exporter": "python",
   "pygments_lexer": "ipython3",
   "version": "3.12.7"
  }
 },
 "nbformat": 4,
 "nbformat_minor": 5
}
