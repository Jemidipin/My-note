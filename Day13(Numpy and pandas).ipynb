{
 "cells": [
  {
   "cell_type": "markdown",
   "id": "f2f8b151-7ee4-4ab7-b24c-63366d46a5e2",
   "metadata": {},
   "source": [
    "# Numpy"
   ]
  },
  {
   "cell_type": "code",
   "execution_count": 5,
   "id": "ace7795a-6fe2-4901-acf6-3830db4f7ba5",
   "metadata": {},
   "outputs": [],
   "source": [
    "import numpy as np"
   ]
  },
  {
   "cell_type": "code",
   "execution_count": 7,
   "id": "5e4c2b99-da04-41ec-b87a-8cd67a69d0c5",
   "metadata": {},
   "outputs": [
    {
     "data": {
      "text/plain": [
       "array([1, 2, 3])"
      ]
     },
     "execution_count": 7,
     "metadata": {},
     "output_type": "execute_result"
    }
   ],
   "source": [
    "my_list= [1,2,3]\n",
    "np.array (my_list)"
   ]
  },
  {
   "cell_type": "markdown",
   "id": "79afccf2-5bfe-45ed-8647-52fd26f14306",
   "metadata": {},
   "source": [
    "### Add two arrays"
   ]
  },
  {
   "cell_type": "code",
   "execution_count": 10,
   "id": "c6d89e4b-2a49-4cbb-aed6-08c6a6ccb3cb",
   "metadata": {},
   "outputs": [
    {
     "name": "stdout",
     "output_type": "stream",
     "text": [
      "[ 6 13  8 13 12 13]\n"
     ]
    }
   ],
   "source": [
    "arr1=np.array([3,5,6,8,3,8])\n",
    "arr2=np.array([3,8,2,5,9,5])\n",
    "print(arr1+arr2)"
   ]
  },
  {
   "cell_type": "markdown",
   "id": "8cffb097-7419-4f60-844c-a4f8b6e1e54c",
   "metadata": {},
   "source": [
    "### Element-wise scalar addition"
   ]
  },
  {
   "cell_type": "code",
   "execution_count": 14,
   "id": "45b27727-f9fe-43ca-8507-f2b438d86af9",
   "metadata": {},
   "outputs": [
    {
     "name": "stdout",
     "output_type": "stream",
     "text": [
      "[13 15 16 18 13 18]\n"
     ]
    }
   ],
   "source": [
    "print(arr1+10)"
   ]
  },
  {
   "cell_type": "markdown",
   "id": "46522513-4ab7-4fa5-9210-e78ff7b39167",
   "metadata": {},
   "source": [
    "### To get the dimension of array"
   ]
  },
  {
   "cell_type": "code",
   "execution_count": 17,
   "id": "ce9b463b-9154-471f-92f2-01ef15a3e6b0",
   "metadata": {},
   "outputs": [
    {
     "data": {
      "text/plain": [
       "1"
      ]
     },
     "execution_count": 17,
     "metadata": {},
     "output_type": "execute_result"
    }
   ],
   "source": [
    "arr1.ndim # Dimension"
   ]
  },
  {
   "cell_type": "code",
   "execution_count": 19,
   "id": "15471888-88b6-4343-a878-62eaca7040b1",
   "metadata": {},
   "outputs": [
    {
     "name": "stdout",
     "output_type": "stream",
     "text": [
      "1\n",
      "2\n",
      "3\n"
     ]
    }
   ],
   "source": [
    "import numpy as np\n",
    "\n",
    "# 1-dimensional array\n",
    "arr1 = np.array([1, 2, 3])\n",
    "print(arr1.ndim)  # Output: 1\n",
    "\n",
    "# 2-dimensional array\n",
    "arr2 = np.array([[1, 2], [3, 4]])\n",
    "print(arr2.ndim)  # Output: 2\n",
    "\n",
    "# 3-dimensional array\n",
    "arr3 = np.array([[[1, 2], [3, 4]], [[5, 6], [7, 8]]])\n",
    "print(arr3.ndim)  # Output: 3"
   ]
  },
  {
   "cell_type": "markdown",
   "id": "54c0cc6e-cef9-47c2-b689-0c9272b2f2d0",
   "metadata": {},
   "source": [
    "### 'shape' returns a tuple with each index having the number of corresponding elements."
   ]
  },
  {
   "cell_type": "code",
   "execution_count": 22,
   "id": "afa4edc3-2c95-4943-aea5-0d9b592d995a",
   "metadata": {},
   "outputs": [
    {
     "data": {
      "text/plain": [
       "(6,)"
      ]
     },
     "execution_count": 22,
     "metadata": {},
     "output_type": "execute_result"
    }
   ],
   "source": [
    "import numpy as np\n",
    "my_List1= [1,2,3,4,5,6]\n",
    "arr1= np.array(my_List1)\n",
    "arr1.shape "
   ]
  },
  {
   "cell_type": "code",
   "execution_count": 24,
   "id": "4c01c6e9-cb88-43dd-8cb2-ad7fb8fa51e4",
   "metadata": {},
   "outputs": [
    {
     "name": "stdout",
     "output_type": "stream",
     "text": [
      "(2, 4)\n"
     ]
    }
   ],
   "source": [
    "import numpy as np\n",
    "\n",
    "arr = np.array([[1, 2, 3, 4], [5, 6, 7, 8]])\n",
    "\n",
    "print(arr.shape) # Here shape returns (2, 4), which means that the array has 2 dimensions, where the first dimension has 2 elements and the second has 4."
   ]
  },
  {
   "cell_type": "markdown",
   "id": "a6502156-2f67-464a-b8c5-a947103452f9",
   "metadata": {},
   "source": [
    "### Data type"
   ]
  },
  {
   "cell_type": "code",
   "execution_count": 27,
   "id": "26c4f7a7-b802-4574-b49d-70c6e63e838d",
   "metadata": {},
   "outputs": [
    {
     "data": {
      "text/plain": [
       "dtype('int32')"
      ]
     },
     "execution_count": 27,
     "metadata": {},
     "output_type": "execute_result"
    }
   ],
   "source": [
    "arr1.dtype #Data type"
   ]
  },
  {
   "cell_type": "code",
   "execution_count": 29,
   "id": "2db0c0c0-4116-4db0-a6c1-2f08282fd141",
   "metadata": {},
   "outputs": [
    {
     "data": {
      "text/plain": [
       "array(['1', '3', '5', '7', 'a'], dtype='<U11')"
      ]
     },
     "execution_count": 29,
     "metadata": {},
     "output_type": "execute_result"
    }
   ],
   "source": [
    "arr3=np.array([1,3,5,7,'a']) # Different data types in an array\n",
    "arr3"
   ]
  },
  {
   "cell_type": "markdown",
   "id": "ed03fe22-9c64-42f1-900a-4937b5d42d0c",
   "metadata": {},
   "source": [
    "### Syntax: numpy.size(arr, axis=None)\n",
    "#### axis: [int, optional] Axis(x,y,z) along which the elements(rows or columns) are counted. \n",
    "#### By default, it gives the total number of elements in a array. Here it is 3*3=9\n",
    "#### Returns: [int] Return the number of elements along a given axis. \n",
    " "
   ]
  },
  {
   "cell_type": "code",
   "execution_count": 32,
   "id": "c393a4f8-0142-4bf5-9f8a-fdb74150a38e",
   "metadata": {},
   "outputs": [
    {
     "name": "stdout",
     "output_type": "stream",
     "text": [
      "2\n",
      "(3, 3)\n",
      "int32\n",
      "9\n"
     ]
    }
   ],
   "source": [
    "arr4= np.array([[1,2,3],[4,6,7],[2,8,9]])\n",
    "print(arr4.ndim) # Dimension\n",
    "print(arr4.shape) # Number of rows or column\n",
    "print(arr4.dtype) #Data type\n",
    "print(arr4.size)"
   ]
  },
  {
   "cell_type": "code",
   "execution_count": 34,
   "id": "514fcca6-b5c9-4107-970a-6e36aacceb9a",
   "metadata": {},
   "outputs": [
    {
     "name": "stdout",
     "output_type": "stream",
     "text": [
      "2\n",
      "(2, 2)\n"
     ]
    }
   ],
   "source": [
    "arr5= np.array([[1,2],[3,4]])\n",
    "print(arr5.ndim) # Dimension\n",
    "print(arr5.shape) "
   ]
  },
  {
   "cell_type": "markdown",
   "id": "08b50e9f-7256-4063-b2c6-5e79f550fdf1",
   "metadata": {},
   "source": [
    "### List Vs Array\n",
    "#### List: Heterogeneous, dynamic (sizec can change during run time)\n",
    "#### Array: Homogeneous (Elements are of same data type), fixed (size defined at creation)- hence faster for numerical operations"
   ]
  },
  {
   "cell_type": "code",
   "execution_count": 25,
   "id": "31c05b85-3aab-4515-8c4b-b8b1c2a9ee5b",
   "metadata": {},
   "outputs": [
    {
     "name": "stdout",
     "output_type": "stream",
     "text": [
      "[5, 6, 7, 8, 9]\n"
     ]
    }
   ],
   "source": [
    "print(list(range(5,10)))"
   ]
  },
  {
   "cell_type": "markdown",
   "id": "edd7b492-dd86-4450-a69c-3058ce12cf35",
   "metadata": {},
   "source": [
    "## Print values within a range"
   ]
  },
  {
   "cell_type": "code",
   "execution_count": 37,
   "id": "e22389fe-cbd0-45a2-b178-0372fa240711",
   "metadata": {},
   "outputs": [
    {
     "data": {
      "text/plain": [
       "array([10, 11, 12, 13, 14, 15, 16, 17, 18, 19, 20, 21, 22, 23, 24, 25, 26,\n",
       "       27, 28, 29, 30, 31, 32, 33, 34, 35, 36, 37, 38, 39, 40, 41, 42, 43,\n",
       "       44, 45, 46, 47, 48, 49, 50, 51, 52, 53, 54, 55, 56, 57, 58, 59, 60,\n",
       "       61, 62, 63, 64, 65, 66, 67, 68, 69, 70, 71, 72, 73, 74, 75, 76, 77,\n",
       "       78, 79, 80, 81, 82, 83, 84, 85, 86, 87, 88, 89, 90, 91, 92, 93, 94,\n",
       "       95, 96, 97, 98, 99])"
      ]
     },
     "execution_count": 37,
     "metadata": {},
     "output_type": "execute_result"
    }
   ],
   "source": [
    "np.arange(10,100)"
   ]
  },
  {
   "cell_type": "code",
   "execution_count": 33,
   "id": "ef592f00-a623-4bec-8085-ed625e86dec9",
   "metadata": {},
   "outputs": [
    {
     "data": {
      "text/plain": [
       "array([10, 20, 30, 40, 50, 60, 70, 80, 90])"
      ]
     },
     "execution_count": 33,
     "metadata": {},
     "output_type": "execute_result"
    }
   ],
   "source": [
    "arr5=np.arange(10,100,10)\n",
    "arr5"
   ]
  },
  {
   "cell_type": "code",
   "execution_count": 39,
   "id": "21fd2ef8-4506-43a8-9fbd-73af2b723be9",
   "metadata": {},
   "outputs": [
    {
     "name": "stdout",
     "output_type": "stream",
     "text": [
      "[100  90  80  70  60  50  40  30  20  10]\n"
     ]
    }
   ],
   "source": [
    "print(np.arange(100,0,-10))"
   ]
  },
  {
   "cell_type": "markdown",
   "id": "baa9e518-d26c-43f8-8a5b-8811ee6f999a",
   "metadata": {},
   "source": [
    "### Reshape the array without changing the number of elements\n"
   ]
  },
  {
   "cell_type": "code",
   "execution_count": 46,
   "id": "8fba9e8b-963e-4beb-b998-a21c03c8f785",
   "metadata": {},
   "outputs": [
    {
     "name": "stdout",
     "output_type": "stream",
     "text": [
      "[1 2 3 4 5 6]\n"
     ]
    },
    {
     "data": {
      "text/plain": [
       "array([[1, 2, 3],\n",
       "       [4, 5, 6]])"
      ]
     },
     "execution_count": 46,
     "metadata": {},
     "output_type": "execute_result"
    }
   ],
   "source": [
    "arr6=np.array([1,2,3,4,5,6]) #array7 is a 1-dimensional array with 6 elements.\n",
    "print(arr6)\n",
    "arr6.reshape(2,3) #Reshapes array7 into 2 rows and 3 columns. (Row*Column should be equal to number of elements of array7)"
   ]
  },
  {
   "cell_type": "code",
   "execution_count": 50,
   "id": "5ee99021-6429-4478-9195-c489b73ca9f1",
   "metadata": {},
   "outputs": [
    {
     "name": "stdout",
     "output_type": "stream",
     "text": [
      "[  1   2   3   4   5   6   7   8   9  10  11  12  13  14  15  16  17  18\n",
      "  19  20  21  22  23  24  25  26  27  28  29  30  31  32  33  34  35  36\n",
      "  37  38  39  40  41  42  43  44  45  46  47  48  49  50  51  52  53  54\n",
      "  55  56  57  58  59  60  61  62  63  64  65  66  67  68  69  70  71  72\n",
      "  73  74  75  76  77  78  79  80  81  82  83  84  85  86  87  88  89  90\n",
      "  91  92  93  94  95  96  97  98  99 100]\n"
     ]
    },
    {
     "data": {
      "text/plain": [
       "array([[  1,   2,   3,   4,   5,   6,   7,   8,   9,  10],\n",
       "       [ 11,  12,  13,  14,  15,  16,  17,  18,  19,  20],\n",
       "       [ 21,  22,  23,  24,  25,  26,  27,  28,  29,  30],\n",
       "       [ 31,  32,  33,  34,  35,  36,  37,  38,  39,  40],\n",
       "       [ 41,  42,  43,  44,  45,  46,  47,  48,  49,  50],\n",
       "       [ 51,  52,  53,  54,  55,  56,  57,  58,  59,  60],\n",
       "       [ 61,  62,  63,  64,  65,  66,  67,  68,  69,  70],\n",
       "       [ 71,  72,  73,  74,  75,  76,  77,  78,  79,  80],\n",
       "       [ 81,  82,  83,  84,  85,  86,  87,  88,  89,  90],\n",
       "       [ 91,  92,  93,  94,  95,  96,  97,  98,  99, 100]])"
      ]
     },
     "execution_count": 50,
     "metadata": {},
     "output_type": "execute_result"
    }
   ],
   "source": [
    "arr7=np.arange(1,101)\n",
    "print(arr7)\n",
    "arr7.reshape(10,10)"
   ]
  },
  {
   "cell_type": "code",
   "execution_count": 52,
   "id": "8a25dbfd-d660-435b-b311-c0f1f9987f1c",
   "metadata": {},
   "outputs": [
    {
     "data": {
      "text/plain": [
       "array([[  1,   2],\n",
       "       [  3,   4],\n",
       "       [  5,   6],\n",
       "       [  7,   8],\n",
       "       [  9,  10],\n",
       "       [ 11,  12],\n",
       "       [ 13,  14],\n",
       "       [ 15,  16],\n",
       "       [ 17,  18],\n",
       "       [ 19,  20],\n",
       "       [ 21,  22],\n",
       "       [ 23,  24],\n",
       "       [ 25,  26],\n",
       "       [ 27,  28],\n",
       "       [ 29,  30],\n",
       "       [ 31,  32],\n",
       "       [ 33,  34],\n",
       "       [ 35,  36],\n",
       "       [ 37,  38],\n",
       "       [ 39,  40],\n",
       "       [ 41,  42],\n",
       "       [ 43,  44],\n",
       "       [ 45,  46],\n",
       "       [ 47,  48],\n",
       "       [ 49,  50],\n",
       "       [ 51,  52],\n",
       "       [ 53,  54],\n",
       "       [ 55,  56],\n",
       "       [ 57,  58],\n",
       "       [ 59,  60],\n",
       "       [ 61,  62],\n",
       "       [ 63,  64],\n",
       "       [ 65,  66],\n",
       "       [ 67,  68],\n",
       "       [ 69,  70],\n",
       "       [ 71,  72],\n",
       "       [ 73,  74],\n",
       "       [ 75,  76],\n",
       "       [ 77,  78],\n",
       "       [ 79,  80],\n",
       "       [ 81,  82],\n",
       "       [ 83,  84],\n",
       "       [ 85,  86],\n",
       "       [ 87,  88],\n",
       "       [ 89,  90],\n",
       "       [ 91,  92],\n",
       "       [ 93,  94],\n",
       "       [ 95,  96],\n",
       "       [ 97,  98],\n",
       "       [ 99, 100]])"
      ]
     },
     "execution_count": 52,
     "metadata": {},
     "output_type": "execute_result"
    }
   ],
   "source": [
    "arr7.reshape(2,50)\n",
    "arr7.reshape(50,2)"
   ]
  },
  {
   "cell_type": "markdown",
   "id": "2362deb4-5389-4948-b267-cd639d1d82d3",
   "metadata": {},
   "source": [
    "### Calculating time required for operation in Python and Numpy"
   ]
  },
  {
   "cell_type": "code",
   "execution_count": 55,
   "id": "7da629c9-e3d8-4a8d-b4c2-f2b0c892ed4c",
   "metadata": {},
   "outputs": [
    {
     "name": "stdout",
     "output_type": "stream",
     "text": [
      "123 μs ± 1.76 μs per loop (mean ± std. dev. of 7 runs, 10,000 loops each)\n"
     ]
    }
   ],
   "source": [
    "L=range(1000)\n",
    "%timeit nums=[i**2 for i in L]"
   ]
  },
  {
   "cell_type": "code",
   "execution_count": 56,
   "id": "9c37f88b-3d6d-44dc-a15e-3609649c921f",
   "metadata": {},
   "outputs": [
    {
     "name": "stdout",
     "output_type": "stream",
     "text": [
      "2.52 μs ± 347 ns per loop (mean ± std. dev. of 7 runs, 100,000 loops each)\n"
     ]
    }
   ],
   "source": [
    "nums=np.arange(1000)\n",
    "%timeit nums**2"
   ]
  },
  {
   "cell_type": "markdown",
   "id": "c7a1fd5e-68e9-4653-a292-22f3a28f4f5c",
   "metadata": {},
   "source": [
    "## Creating matrices"
   ]
  },
  {
   "cell_type": "code",
   "execution_count": 60,
   "id": "59a1bdeb-1c40-456f-b68b-b3ced62d8ab7",
   "metadata": {},
   "outputs": [
    {
     "data": {
      "text/plain": [
       "array([[1., 1.],\n",
       "       [1., 1.],\n",
       "       [1., 1.]])"
      ]
     },
     "execution_count": 60,
     "metadata": {},
     "output_type": "execute_result"
    }
   ],
   "source": [
    "np.ones((3,2))"
   ]
  },
  {
   "cell_type": "code",
   "execution_count": 62,
   "id": "876b352d-50f2-44b1-a8ea-1cfb91ddc9d3",
   "metadata": {},
   "outputs": [
    {
     "data": {
      "text/plain": [
       "array([[1., 0., 0.],\n",
       "       [0., 1., 0.],\n",
       "       [0., 0., 1.]])"
      ]
     },
     "execution_count": 62,
     "metadata": {},
     "output_type": "execute_result"
    }
   ],
   "source": [
    "np.eye(3)# identity"
   ]
  },
  {
   "cell_type": "code",
   "execution_count": 64,
   "id": "2aa2cfab-566f-4c0b-a708-3a56defd9f4b",
   "metadata": {},
   "outputs": [
    {
     "data": {
      "text/plain": [
       "array([[1, 0, 0, 0],\n",
       "       [0, 2, 0, 0],\n",
       "       [0, 0, 3, 0],\n",
       "       [0, 0, 0, 4]])"
      ]
     },
     "execution_count": 64,
     "metadata": {},
     "output_type": "execute_result"
    }
   ],
   "source": [
    "np.diag([1,2,3,4])"
   ]
  },
  {
   "cell_type": "code",
   "execution_count": 66,
   "id": "49293df8-f13e-493e-bd5c-1e9037cfe981",
   "metadata": {},
   "outputs": [
    {
     "data": {
      "text/plain": [
       "10"
      ]
     },
     "execution_count": 66,
     "metadata": {},
     "output_type": "execute_result"
    }
   ],
   "source": [
    "np.sum([1,2,3,4])"
   ]
  },
  {
   "cell_type": "code",
   "execution_count": 68,
   "id": "19e6a405-edac-447b-9321-8077991bcfd8",
   "metadata": {},
   "outputs": [
    {
     "data": {
      "text/plain": [
       "array([ 1,  2,  3,  4,  5,  6,  7,  8,  9, 10, 11, 12, 13, 14, 15, 16, 17,\n",
       "       18, 19, 20, 21, 22, 23, 24, 25, 26, 27, 28, 29, 30, 31, 32, 33, 34,\n",
       "       35, 36, 37, 38, 39, 40, 41, 42, 43, 44, 45, 46, 47, 48, 49, 50, 51,\n",
       "       52, 53, 54, 55, 56, 57, 58, 59, 60, 61, 62, 63, 64, 65, 66, 67, 68,\n",
       "       69, 70, 71, 72, 73, 74, 75, 76, 77, 78, 79, 80, 81, 82, 83, 84, 85,\n",
       "       86, 87, 88, 89, 90, 91, 92, 93, 94, 95, 96, 97, 98, 99])"
      ]
     },
     "execution_count": 68,
     "metadata": {},
     "output_type": "execute_result"
    }
   ],
   "source": [
    "x=np.array(range(1,100))\n",
    "x"
   ]
  },
  {
   "cell_type": "code",
   "execution_count": 70,
   "id": "70971921-7462-4004-9a02-6091e9e56edf",
   "metadata": {},
   "outputs": [
    {
     "data": {
      "text/plain": [
       "50.0"
      ]
     },
     "execution_count": 70,
     "metadata": {},
     "output_type": "execute_result"
    }
   ],
   "source": [
    "np.mean(x)"
   ]
  },
  {
   "cell_type": "code",
   "execution_count": 72,
   "id": "3ac661fd-a514-4e95-b6f3-48045429ec1f",
   "metadata": {},
   "outputs": [
    {
     "data": {
      "text/plain": [
       "28.577380332470412"
      ]
     },
     "execution_count": 72,
     "metadata": {},
     "output_type": "execute_result"
    }
   ],
   "source": [
    "np.std(x)"
   ]
  },
  {
   "cell_type": "code",
   "execution_count": 74,
   "id": "32fa1b95-8c3d-4bfe-8f2b-6f9432f4640d",
   "metadata": {},
   "outputs": [
    {
     "data": {
      "text/plain": [
       "28.577380332470412"
      ]
     },
     "execution_count": 74,
     "metadata": {},
     "output_type": "execute_result"
    }
   ],
   "source": [
    "std=np.sqrt(np.sum((x-np.mean(x))**2)/x.size)\n",
    "std"
   ]
  },
  {
   "cell_type": "code",
   "execution_count": 76,
   "id": "24dc01c7-3340-4361-9486-0cef4a6ef35d",
   "metadata": {},
   "outputs": [
    {
     "data": {
      "text/plain": [
       "array([[1, 0, 0, 0],\n",
       "       [0, 2, 0, 0],\n",
       "       [0, 0, 3, 0],\n",
       "       [0, 0, 0, 4]])"
      ]
     },
     "execution_count": 76,
     "metadata": {},
     "output_type": "execute_result"
    }
   ],
   "source": [
    "np.diag([1,2,3,4])"
   ]
  },
  {
   "cell_type": "code",
   "execution_count": 78,
   "id": "eb72f647-e351-446f-b362-cb07957e050c",
   "metadata": {},
   "outputs": [
    {
     "data": {
      "text/plain": [
       "array([[1, 0, 0, 0],\n",
       "       [0, 2, 0, 0],\n",
       "       [0, 0, 3, 0],\n",
       "       [0, 0, 0, 4]])"
      ]
     },
     "execution_count": 78,
     "metadata": {},
     "output_type": "execute_result"
    }
   ],
   "source": [
    "z=np.diag([1,2,3,4])\n",
    "z"
   ]
  },
  {
   "cell_type": "code",
   "execution_count": 80,
   "id": "b22e2f7f-a6dc-4914-a8d8-095488495abf",
   "metadata": {},
   "outputs": [
    {
     "data": {
      "text/plain": [
       "array([0.33530004, 0.68387082, 0.97039202])"
      ]
     },
     "execution_count": 80,
     "metadata": {},
     "output_type": "execute_result"
    }
   ],
   "source": [
    "d=np.random.random(3)\n",
    "d"
   ]
  },
  {
   "cell_type": "code",
   "execution_count": 82,
   "id": "86ad41b8-0d6e-4e70-940f-b4dd52d4a4ab",
   "metadata": {},
   "outputs": [
    {
     "data": {
      "text/plain": [
       "array([ 0.5252154 , -0.59328226, -0.59729362,  0.68748871])"
      ]
     },
     "execution_count": 82,
     "metadata": {},
     "output_type": "execute_result"
    }
   ],
   "source": [
    "np.random.randn(4)"
   ]
  },
  {
   "cell_type": "code",
   "execution_count": 84,
   "id": "ab2f2d75-e324-4d71-b9f8-203ead73338c",
   "metadata": {},
   "outputs": [
    {
     "data": {
      "text/plain": [
       "array([16,  6,  5])"
      ]
     },
     "execution_count": 84,
     "metadata": {},
     "output_type": "execute_result"
    }
   ],
   "source": [
    "np.random.randint(0,20,3)"
   ]
  },
  {
   "cell_type": "code",
   "execution_count": 86,
   "id": "6c0d6fb2-06e7-4405-9d60-f71744bc8a45",
   "metadata": {},
   "outputs": [
    {
     "data": {
      "text/plain": [
       "dtype('int32')"
      ]
     },
     "execution_count": 86,
     "metadata": {},
     "output_type": "execute_result"
    }
   ],
   "source": [
    "a=np.arange(10)\n",
    "a.dtype"
   ]
  },
  {
   "cell_type": "code",
   "execution_count": 88,
   "id": "693dad79-b715-4027-86bd-1f05dafa4745",
   "metadata": {},
   "outputs": [
    {
     "data": {
      "text/plain": [
       "array([0., 1., 2., 3., 4., 5., 6., 7., 8., 9.], dtype=float32)"
      ]
     },
     "execution_count": 88,
     "metadata": {},
     "output_type": "execute_result"
    }
   ],
   "source": [
    "a=np.arange(10,dtype=np.float32)\n",
    "a"
   ]
  },
  {
   "cell_type": "code",
   "execution_count": 90,
   "id": "42d16015-65bd-46bb-8ffa-5be64d95e7b4",
   "metadata": {
    "jp-MarkdownHeadingCollapsed": true
   },
   "outputs": [
    {
     "data": {
      "text/plain": [
       "dtype('complex128')"
      ]
     },
     "execution_count": 90,
     "metadata": {},
     "output_type": "execute_result"
    }
   ],
   "source": [
    "np.array([1+3j]).dtype"
   ]
  },
  {
   "cell_type": "raw",
   "id": "7060d5e9-88a6-440b-bdc2-d2f822dee7f4",
   "metadata": {},
   "source": [
    "np.array([true,false,true]).dtype"
   ]
  },
  {
   "cell_type": "code",
   "execution_count": 92,
   "id": "2a8c9407-d12d-4453-918e-7444e996d83d",
   "metadata": {},
   "outputs": [
    {
     "data": {
      "text/plain": [
       "array(['ram', 'hello'], dtype='<U5')"
      ]
     },
     "execution_count": 92,
     "metadata": {},
     "output_type": "execute_result"
    }
   ],
   "source": [
    "np.array([\"ram\",\"hello\"])"
   ]
  },
  {
   "cell_type": "code",
   "execution_count": 94,
   "id": "0b2ed932-45bf-491d-a8e4-fecc027a122f",
   "metadata": {},
   "outputs": [
    {
     "data": {
      "text/plain": [
       "array([0, 1, 2, 3, 4, 5, 6, 7, 8, 9])"
      ]
     },
     "execution_count": 94,
     "metadata": {},
     "output_type": "execute_result"
    }
   ],
   "source": [
    "a=np.arange(10)\n",
    "a"
   ]
  },
  {
   "cell_type": "code",
   "execution_count": 96,
   "id": "1193c848-be75-4308-ac59-1ffdf6aca903",
   "metadata": {},
   "outputs": [
    {
     "data": {
      "text/plain": [
       "array([ 0,  1,  2, 10,  4,  5,  6,  7,  8,  9])"
      ]
     },
     "execution_count": 96,
     "metadata": {},
     "output_type": "execute_result"
    }
   ],
   "source": [
    "a[3]=10\n",
    "a"
   ]
  },
  {
   "cell_type": "code",
   "execution_count": 98,
   "id": "11239c82-a473-4fe6-80b2-f6958a0c0af2",
   "metadata": {},
   "outputs": [
    {
     "data": {
      "text/plain": [
       "array([0, 2, 4, 6, 8])"
      ]
     },
     "execution_count": 98,
     "metadata": {},
     "output_type": "execute_result"
    }
   ],
   "source": [
    "b=a[: : 2]\n",
    "b     #indexing"
   ]
  },
  {
   "cell_type": "code",
   "execution_count": 100,
   "id": "020f057e-960c-43cb-ad0a-59f85bc9445b",
   "metadata": {},
   "outputs": [
    {
     "data": {
      "text/plain": [
       "array([ 9,  7,  5, 10,  1])"
      ]
     },
     "execution_count": 100,
     "metadata": {},
     "output_type": "execute_result"
    }
   ],
   "source": [
    "a[::-2]"
   ]
  },
  {
   "cell_type": "code",
   "execution_count": 102,
   "id": "da47804b-0ecd-4cd8-a65f-ce4375fe3807",
   "metadata": {},
   "outputs": [
    {
     "data": {
      "text/plain": [
       "array([ 9,  7,  5, 10,  1])"
      ]
     },
     "execution_count": 102,
     "metadata": {},
     "output_type": "execute_result"
    }
   ],
   "source": [
    "a[1::2][::-1]"
   ]
  },
  {
   "cell_type": "code",
   "execution_count": 104,
   "id": "9b47a978-e3f4-4e10-84e1-b64b4f05c88c",
   "metadata": {},
   "outputs": [
    {
     "data": {
      "text/plain": [
       "array([ 1, 10,  5,  7,  9])"
      ]
     },
     "execution_count": 104,
     "metadata": {},
     "output_type": "execute_result"
    }
   ],
   "source": [
    "a[1::2][::-1][::-1]"
   ]
  },
  {
   "cell_type": "code",
   "execution_count": 106,
   "id": "afdcfa4c-1856-4d18-8600-b60c2bf6a97f",
   "metadata": {},
   "outputs": [
    {
     "data": {
      "text/plain": [
       "True"
      ]
     },
     "execution_count": 106,
     "metadata": {},
     "output_type": "execute_result"
    }
   ],
   "source": [
    "np.shares_memory(a,b)"
   ]
  },
  {
   "cell_type": "code",
   "execution_count": 108,
   "id": "ba691580-71a0-42e0-8fea-0c235970a4f1",
   "metadata": {},
   "outputs": [
    {
     "data": {
      "text/plain": [
       "array([0, 2, 4, 6, 8])"
      ]
     },
     "execution_count": 108,
     "metadata": {},
     "output_type": "execute_result"
    }
   ],
   "source": [
    "c=a[::2].copy()\n",
    "c"
   ]
  },
  {
   "cell_type": "code",
   "execution_count": 110,
   "id": "a4ea6d12-fdc4-441a-81b9-78878d765cef",
   "metadata": {},
   "outputs": [
    {
     "data": {
      "text/plain": [
       "(array([[0., 0., 0., 0.],\n",
       "        [0., 0., 0., 0.],\n",
       "        [0., 0., 0., 0.],\n",
       "        [0., 0., 0., 0.]]),\n",
       " array([[1., 1., 1., 1.],\n",
       "        [1., 1., 1., 1.],\n",
       "        [1., 1., 1., 1.],\n",
       "        [1., 1., 1., 1.]]))"
      ]
     },
     "execution_count": 110,
     "metadata": {},
     "output_type": "execute_result"
    }
   ],
   "source": [
    "a=np.zeros((4,4))\n",
    "b=np.ones((4,4))\n",
    "a,b"
   ]
  },
  {
   "cell_type": "code",
   "execution_count": 112,
   "id": "527727a0-1abc-4e40-acb1-612cce204f23",
   "metadata": {},
   "outputs": [
    {
     "data": {
      "text/plain": [
       "array([[0., 0., 0., 0.],\n",
       "       [0., 0., 0., 0.],\n",
       "       [0., 0., 0., 0.],\n",
       "       [0., 0., 0., 0.],\n",
       "       [1., 1., 1., 1.],\n",
       "       [1., 1., 1., 1.],\n",
       "       [1., 1., 1., 1.],\n",
       "       [1., 1., 1., 1.]])"
      ]
     },
     "execution_count": 112,
     "metadata": {},
     "output_type": "execute_result"
    }
   ],
   "source": [
    "c=np.vstack((a,b))\n",
    "c.shape\n",
    "a,b\n",
    "c"
   ]
  },
  {
   "cell_type": "code",
   "execution_count": 114,
   "id": "97e97d7f-e2dd-43e7-898c-2c9a746a9d64",
   "metadata": {},
   "outputs": [
    {
     "data": {
      "text/plain": [
       "array([[0., 0., 0., 0., 1., 1., 1., 1.],\n",
       "       [0., 0., 0., 0., 1., 1., 1., 1.],\n",
       "       [0., 0., 0., 0., 1., 1., 1., 1.],\n",
       "       [0., 0., 0., 0., 1., 1., 1., 1.]])"
      ]
     },
     "execution_count": 114,
     "metadata": {},
     "output_type": "execute_result"
    }
   ],
   "source": [
    "d=np.hstack((a,b))\n",
    "d.shape\n",
    "d"
   ]
  },
  {
   "cell_type": "code",
   "execution_count": 116,
   "id": "5787bf10-b271-48ce-8226-2d7bed603997",
   "metadata": {},
   "outputs": [
    {
     "data": {
      "text/plain": [
       "array([[0., 0., 0., 0., 1., 1., 1., 1.],\n",
       "       [0., 0., 0., 0., 1., 1., 1., 1.],\n",
       "       [0., 0., 0., 0., 1., 1., 1., 1.],\n",
       "       [0., 0., 0., 0., 1., 1., 1., 1.]])"
      ]
     },
     "execution_count": 116,
     "metadata": {},
     "output_type": "execute_result"
    }
   ],
   "source": [
    "np.concatenate([a,b],axis=1)"
   ]
  },
  {
   "cell_type": "code",
   "execution_count": 118,
   "id": "ab141bcb-892c-4f1b-8794-a81df74094ee",
   "metadata": {},
   "outputs": [
    {
     "data": {
      "text/plain": [
       "(3,)"
      ]
     },
     "execution_count": 118,
     "metadata": {},
     "output_type": "execute_result"
    }
   ],
   "source": [
    "array1=np.array([1,2,3])\n",
    "array1.T.shape"
   ]
  },
  {
   "cell_type": "code",
   "execution_count": 120,
   "id": "2e23f7c5-adce-40cf-9d6a-9bc969ddeef0",
   "metadata": {},
   "outputs": [
    {
     "data": {
      "text/plain": [
       "14"
      ]
     },
     "execution_count": 120,
     "metadata": {},
     "output_type": "execute_result"
    }
   ],
   "source": [
    "a=np.arange(4)\n",
    "b=a.T\n",
    "np.dot(a,b)"
   ]
  },
  {
   "cell_type": "markdown",
   "id": "f3d35c9a-7036-4069-8812-53afe5698f8c",
   "metadata": {},
   "source": [
    "# Pandas"
   ]
  },
  {
   "cell_type": "code",
   "execution_count": 124,
   "id": "2a713acc-d3a2-45c7-bca3-50db8e280e2a",
   "metadata": {},
   "outputs": [],
   "source": [
    "import pandas as pd"
   ]
  },
  {
   "cell_type": "code",
   "execution_count": 126,
   "id": "e66b76e8-4f7a-4544-a54f-d48750c3d456",
   "metadata": {},
   "outputs": [],
   "source": [
    "weather_data=[(\"1/1/2024\",32,6,\"rain\"),(\"2/2/2024\",35,7,\"sunny\")]"
   ]
  },
  {
   "cell_type": "code",
   "execution_count": 128,
   "id": "eb05893f-59fd-43a7-98bb-d5454366012e",
   "metadata": {},
   "outputs": [],
   "source": [
    "df=pd.DataFrame(weather_data,\\\n",
    "                columns=[\"date\",\"temperature\",\"wind\",\"climate\"])"
   ]
  },
  {
   "cell_type": "code",
   "execution_count": 130,
   "id": "7cbb1208-f82a-47ac-a032-b93a933e37d2",
   "metadata": {},
   "outputs": [
    {
     "data": {
      "text/html": [
       "<div>\n",
       "<style scoped>\n",
       "    .dataframe tbody tr th:only-of-type {\n",
       "        vertical-align: middle;\n",
       "    }\n",
       "\n",
       "    .dataframe tbody tr th {\n",
       "        vertical-align: top;\n",
       "    }\n",
       "\n",
       "    .dataframe thead th {\n",
       "        text-align: right;\n",
       "    }\n",
       "</style>\n",
       "<table border=\"1\" class=\"dataframe\">\n",
       "  <thead>\n",
       "    <tr style=\"text-align: right;\">\n",
       "      <th></th>\n",
       "      <th>date</th>\n",
       "      <th>temperature</th>\n",
       "      <th>wind</th>\n",
       "      <th>climate</th>\n",
       "    </tr>\n",
       "  </thead>\n",
       "  <tbody>\n",
       "    <tr>\n",
       "      <th>0</th>\n",
       "      <td>1/1/2024</td>\n",
       "      <td>32</td>\n",
       "      <td>6</td>\n",
       "      <td>rain</td>\n",
       "    </tr>\n",
       "    <tr>\n",
       "      <th>1</th>\n",
       "      <td>2/2/2024</td>\n",
       "      <td>35</td>\n",
       "      <td>7</td>\n",
       "      <td>sunny</td>\n",
       "    </tr>\n",
       "  </tbody>\n",
       "</table>\n",
       "</div>"
      ],
      "text/plain": [
       "       date  temperature  wind climate\n",
       "0  1/1/2024           32     6    rain\n",
       "1  2/2/2024           35     7   sunny"
      ]
     },
     "execution_count": 130,
     "metadata": {},
     "output_type": "execute_result"
    }
   ],
   "source": [
    "df"
   ]
  },
  {
   "cell_type": "code",
   "execution_count": 142,
   "id": "9ae3d236-dddf-4b51-8253-456ce080ee23",
   "metadata": {},
   "outputs": [
    {
     "data": {
      "text/html": [
       "<div>\n",
       "<style scoped>\n",
       "    .dataframe tbody tr th:only-of-type {\n",
       "        vertical-align: middle;\n",
       "    }\n",
       "\n",
       "    .dataframe tbody tr th {\n",
       "        vertical-align: top;\n",
       "    }\n",
       "\n",
       "    .dataframe thead th {\n",
       "        text-align: right;\n",
       "    }\n",
       "</style>\n",
       "<table border=\"1\" class=\"dataframe\">\n",
       "  <thead>\n",
       "    <tr style=\"text-align: right;\">\n",
       "      <th></th>\n",
       "      <th>mpg</th>\n",
       "      <th>cylinders</th>\n",
       "      <th>displacement</th>\n",
       "      <th>horsepower</th>\n",
       "      <th>weight</th>\n",
       "      <th>acceleration</th>\n",
       "      <th>model year</th>\n",
       "      <th>origin</th>\n",
       "      <th>car name</th>\n",
       "    </tr>\n",
       "  </thead>\n",
       "  <tbody>\n",
       "    <tr>\n",
       "      <th>0</th>\n",
       "      <td>18.0</td>\n",
       "      <td>8</td>\n",
       "      <td>307.0</td>\n",
       "      <td>130</td>\n",
       "      <td>3504</td>\n",
       "      <td>12.0</td>\n",
       "      <td>70</td>\n",
       "      <td>1</td>\n",
       "      <td>chevrolet chevelle malibu</td>\n",
       "    </tr>\n",
       "    <tr>\n",
       "      <th>1</th>\n",
       "      <td>15.0</td>\n",
       "      <td>8</td>\n",
       "      <td>350.0</td>\n",
       "      <td>165</td>\n",
       "      <td>3693</td>\n",
       "      <td>11.5</td>\n",
       "      <td>70</td>\n",
       "      <td>1</td>\n",
       "      <td>buick skylark 320</td>\n",
       "    </tr>\n",
       "    <tr>\n",
       "      <th>2</th>\n",
       "      <td>18.0</td>\n",
       "      <td>8</td>\n",
       "      <td>318.0</td>\n",
       "      <td>150</td>\n",
       "      <td>3436</td>\n",
       "      <td>11.0</td>\n",
       "      <td>70</td>\n",
       "      <td>1</td>\n",
       "      <td>plymouth satellite</td>\n",
       "    </tr>\n",
       "    <tr>\n",
       "      <th>3</th>\n",
       "      <td>16.0</td>\n",
       "      <td>8</td>\n",
       "      <td>304.0</td>\n",
       "      <td>150</td>\n",
       "      <td>3433</td>\n",
       "      <td>12.0</td>\n",
       "      <td>70</td>\n",
       "      <td>1</td>\n",
       "      <td>amc rebel sst</td>\n",
       "    </tr>\n",
       "    <tr>\n",
       "      <th>4</th>\n",
       "      <td>17.0</td>\n",
       "      <td>8</td>\n",
       "      <td>302.0</td>\n",
       "      <td>140</td>\n",
       "      <td>3449</td>\n",
       "      <td>10.5</td>\n",
       "      <td>70</td>\n",
       "      <td>1</td>\n",
       "      <td>ford torino</td>\n",
       "    </tr>\n",
       "    <tr>\n",
       "      <th>...</th>\n",
       "      <td>...</td>\n",
       "      <td>...</td>\n",
       "      <td>...</td>\n",
       "      <td>...</td>\n",
       "      <td>...</td>\n",
       "      <td>...</td>\n",
       "      <td>...</td>\n",
       "      <td>...</td>\n",
       "      <td>...</td>\n",
       "    </tr>\n",
       "    <tr>\n",
       "      <th>393</th>\n",
       "      <td>27.0</td>\n",
       "      <td>4</td>\n",
       "      <td>140.0</td>\n",
       "      <td>86</td>\n",
       "      <td>2790</td>\n",
       "      <td>15.6</td>\n",
       "      <td>82</td>\n",
       "      <td>1</td>\n",
       "      <td>ford mustang gl</td>\n",
       "    </tr>\n",
       "    <tr>\n",
       "      <th>394</th>\n",
       "      <td>44.0</td>\n",
       "      <td>4</td>\n",
       "      <td>97.0</td>\n",
       "      <td>52</td>\n",
       "      <td>2130</td>\n",
       "      <td>24.6</td>\n",
       "      <td>82</td>\n",
       "      <td>2</td>\n",
       "      <td>vw pickup</td>\n",
       "    </tr>\n",
       "    <tr>\n",
       "      <th>395</th>\n",
       "      <td>32.0</td>\n",
       "      <td>4</td>\n",
       "      <td>135.0</td>\n",
       "      <td>84</td>\n",
       "      <td>2295</td>\n",
       "      <td>11.6</td>\n",
       "      <td>82</td>\n",
       "      <td>1</td>\n",
       "      <td>dodge rampage</td>\n",
       "    </tr>\n",
       "    <tr>\n",
       "      <th>396</th>\n",
       "      <td>28.0</td>\n",
       "      <td>4</td>\n",
       "      <td>120.0</td>\n",
       "      <td>79</td>\n",
       "      <td>2625</td>\n",
       "      <td>18.6</td>\n",
       "      <td>82</td>\n",
       "      <td>1</td>\n",
       "      <td>ford ranger</td>\n",
       "    </tr>\n",
       "    <tr>\n",
       "      <th>397</th>\n",
       "      <td>31.0</td>\n",
       "      <td>4</td>\n",
       "      <td>119.0</td>\n",
       "      <td>82</td>\n",
       "      <td>2720</td>\n",
       "      <td>19.4</td>\n",
       "      <td>82</td>\n",
       "      <td>1</td>\n",
       "      <td>chevy s-10</td>\n",
       "    </tr>\n",
       "  </tbody>\n",
       "</table>\n",
       "<p>398 rows × 9 columns</p>\n",
       "</div>"
      ],
      "text/plain": [
       "      mpg  cylinders  displacement horsepower  weight  acceleration  \\\n",
       "0    18.0          8         307.0        130    3504          12.0   \n",
       "1    15.0          8         350.0        165    3693          11.5   \n",
       "2    18.0          8         318.0        150    3436          11.0   \n",
       "3    16.0          8         304.0        150    3433          12.0   \n",
       "4    17.0          8         302.0        140    3449          10.5   \n",
       "..    ...        ...           ...        ...     ...           ...   \n",
       "393  27.0          4         140.0         86    2790          15.6   \n",
       "394  44.0          4          97.0         52    2130          24.6   \n",
       "395  32.0          4         135.0         84    2295          11.6   \n",
       "396  28.0          4         120.0         79    2625          18.6   \n",
       "397  31.0          4         119.0         82    2720          19.4   \n",
       "\n",
       "     model year  origin                   car name  \n",
       "0            70       1  chevrolet chevelle malibu  \n",
       "1            70       1          buick skylark 320  \n",
       "2            70       1         plymouth satellite  \n",
       "3            70       1              amc rebel sst  \n",
       "4            70       1                ford torino  \n",
       "..          ...     ...                        ...  \n",
       "393          82       1            ford mustang gl  \n",
       "394          82       2                  vw pickup  \n",
       "395          82       1              dodge rampage  \n",
       "396          82       1                ford ranger  \n",
       "397          82       1                 chevy s-10  \n",
       "\n",
       "[398 rows x 9 columns]"
      ]
     },
     "execution_count": 142,
     "metadata": {},
     "output_type": "execute_result"
    }
   ],
   "source": [
    "df= pd.read_csv(\"D:\\\\ICT_DataScience\\\\Excel worksheet\\\\auto-mpg.csv\")\n",
    "df"
   ]
  },
  {
   "cell_type": "code",
   "execution_count": 144,
   "id": "f12caa93-a38d-4511-aa13-c97b9b5f13e9",
   "metadata": {},
   "outputs": [
    {
     "data": {
      "text/plain": [
       "(398, 9)"
      ]
     },
     "execution_count": 144,
     "metadata": {},
     "output_type": "execute_result"
    }
   ],
   "source": [
    "df.shape"
   ]
  },
  {
   "cell_type": "code",
   "execution_count": 146,
   "id": "4e01a754-9aef-43b3-a48e-a669b3103d42",
   "metadata": {},
   "outputs": [
    {
     "data": {
      "text/html": [
       "<div>\n",
       "<style scoped>\n",
       "    .dataframe tbody tr th:only-of-type {\n",
       "        vertical-align: middle;\n",
       "    }\n",
       "\n",
       "    .dataframe tbody tr th {\n",
       "        vertical-align: top;\n",
       "    }\n",
       "\n",
       "    .dataframe thead th {\n",
       "        text-align: right;\n",
       "    }\n",
       "</style>\n",
       "<table border=\"1\" class=\"dataframe\">\n",
       "  <thead>\n",
       "    <tr style=\"text-align: right;\">\n",
       "      <th></th>\n",
       "      <th>mpg</th>\n",
       "      <th>cylinders</th>\n",
       "      <th>displacement</th>\n",
       "      <th>horsepower</th>\n",
       "      <th>weight</th>\n",
       "      <th>acceleration</th>\n",
       "      <th>model year</th>\n",
       "      <th>origin</th>\n",
       "      <th>car name</th>\n",
       "    </tr>\n",
       "  </thead>\n",
       "  <tbody>\n",
       "    <tr>\n",
       "      <th>0</th>\n",
       "      <td>18.0</td>\n",
       "      <td>8</td>\n",
       "      <td>307.0</td>\n",
       "      <td>130</td>\n",
       "      <td>3504</td>\n",
       "      <td>12.0</td>\n",
       "      <td>70</td>\n",
       "      <td>1</td>\n",
       "      <td>chevrolet chevelle malibu</td>\n",
       "    </tr>\n",
       "    <tr>\n",
       "      <th>1</th>\n",
       "      <td>15.0</td>\n",
       "      <td>8</td>\n",
       "      <td>350.0</td>\n",
       "      <td>165</td>\n",
       "      <td>3693</td>\n",
       "      <td>11.5</td>\n",
       "      <td>70</td>\n",
       "      <td>1</td>\n",
       "      <td>buick skylark 320</td>\n",
       "    </tr>\n",
       "  </tbody>\n",
       "</table>\n",
       "</div>"
      ],
      "text/plain": [
       "    mpg  cylinders  displacement horsepower  weight  acceleration  model year  \\\n",
       "0  18.0          8         307.0        130    3504          12.0          70   \n",
       "1  15.0          8         350.0        165    3693          11.5          70   \n",
       "\n",
       "   origin                   car name  \n",
       "0       1  chevrolet chevelle malibu  \n",
       "1       1          buick skylark 320  "
      ]
     },
     "execution_count": 146,
     "metadata": {},
     "output_type": "execute_result"
    }
   ],
   "source": [
    "df.head(2)"
   ]
  },
  {
   "cell_type": "code",
   "execution_count": 148,
   "id": "faa45941-dd98-4fff-a48c-57642515fa22",
   "metadata": {},
   "outputs": [
    {
     "data": {
      "text/plain": [
       "0      18.0\n",
       "1      15.0\n",
       "2      18.0\n",
       "3      16.0\n",
       "4      17.0\n",
       "       ... \n",
       "393    27.0\n",
       "394    44.0\n",
       "395    32.0\n",
       "396    28.0\n",
       "397    31.0\n",
       "Name: mpg, Length: 398, dtype: float64"
      ]
     },
     "execution_count": 148,
     "metadata": {},
     "output_type": "execute_result"
    }
   ],
   "source": [
    "df[\"mpg\"]# print one column"
   ]
  },
  {
   "cell_type": "code",
   "execution_count": 150,
   "id": "0df3eba4-752c-4b34-aeda-805984c09add",
   "metadata": {},
   "outputs": [
    {
     "data": {
      "text/plain": [
       "0      18.0\n",
       "1      15.0\n",
       "2      18.0\n",
       "3      16.0\n",
       "4      17.0\n",
       "       ... \n",
       "393    27.0\n",
       "394    44.0\n",
       "395    32.0\n",
       "396    28.0\n",
       "397    31.0\n",
       "Name: mpg, Length: 398, dtype: float64"
      ]
     },
     "execution_count": 150,
     "metadata": {},
     "output_type": "execute_result"
    }
   ],
   "source": [
    "df.mpg"
   ]
  },
  {
   "cell_type": "code",
   "execution_count": 152,
   "id": "fdf282eb-4d84-4a6c-b784-221f5e624577",
   "metadata": {},
   "outputs": [
    {
     "data": {
      "text/plain": [
       "Index(['mpg', 'cylinders', 'displacement', 'horsepower', 'weight',\n",
       "       'acceleration', 'model year', 'origin', 'car name'],\n",
       "      dtype='object')"
      ]
     },
     "execution_count": 152,
     "metadata": {},
     "output_type": "execute_result"
    }
   ],
   "source": [
    "df.columns"
   ]
  },
  {
   "cell_type": "code",
   "execution_count": 154,
   "id": "ec734001-ee1d-42b8-ac2b-bb3d0078aa4c",
   "metadata": {},
   "outputs": [
    {
     "data": {
      "text/plain": [
       "['mpg',\n",
       " 'cylinders',\n",
       " 'displacement',\n",
       " 'horsepower',\n",
       " 'weight',\n",
       " 'acceleration',\n",
       " 'model year',\n",
       " 'origin',\n",
       " 'car name']"
      ]
     },
     "execution_count": 154,
     "metadata": {},
     "output_type": "execute_result"
    }
   ],
   "source": [
    "df.columns.tolist()"
   ]
  },
  {
   "cell_type": "code",
   "execution_count": 156,
   "id": "07c939ab-a2a7-4518-8971-1d9576f4e53d",
   "metadata": {},
   "outputs": [
    {
     "data": {
      "text/html": [
       "<div>\n",
       "<style scoped>\n",
       "    .dataframe tbody tr th:only-of-type {\n",
       "        vertical-align: middle;\n",
       "    }\n",
       "\n",
       "    .dataframe tbody tr th {\n",
       "        vertical-align: top;\n",
       "    }\n",
       "\n",
       "    .dataframe thead th {\n",
       "        text-align: right;\n",
       "    }\n",
       "</style>\n",
       "<table border=\"1\" class=\"dataframe\">\n",
       "  <thead>\n",
       "    <tr style=\"text-align: right;\">\n",
       "      <th></th>\n",
       "      <th>mpg</th>\n",
       "      <th>cylinders</th>\n",
       "      <th>displacement</th>\n",
       "    </tr>\n",
       "  </thead>\n",
       "  <tbody>\n",
       "    <tr>\n",
       "      <th>0</th>\n",
       "      <td>18.0</td>\n",
       "      <td>8</td>\n",
       "      <td>307.0</td>\n",
       "    </tr>\n",
       "    <tr>\n",
       "      <th>1</th>\n",
       "      <td>15.0</td>\n",
       "      <td>8</td>\n",
       "      <td>350.0</td>\n",
       "    </tr>\n",
       "    <tr>\n",
       "      <th>2</th>\n",
       "      <td>18.0</td>\n",
       "      <td>8</td>\n",
       "      <td>318.0</td>\n",
       "    </tr>\n",
       "    <tr>\n",
       "      <th>3</th>\n",
       "      <td>16.0</td>\n",
       "      <td>8</td>\n",
       "      <td>304.0</td>\n",
       "    </tr>\n",
       "    <tr>\n",
       "      <th>4</th>\n",
       "      <td>17.0</td>\n",
       "      <td>8</td>\n",
       "      <td>302.0</td>\n",
       "    </tr>\n",
       "    <tr>\n",
       "      <th>...</th>\n",
       "      <td>...</td>\n",
       "      <td>...</td>\n",
       "      <td>...</td>\n",
       "    </tr>\n",
       "    <tr>\n",
       "      <th>393</th>\n",
       "      <td>27.0</td>\n",
       "      <td>4</td>\n",
       "      <td>140.0</td>\n",
       "    </tr>\n",
       "    <tr>\n",
       "      <th>394</th>\n",
       "      <td>44.0</td>\n",
       "      <td>4</td>\n",
       "      <td>97.0</td>\n",
       "    </tr>\n",
       "    <tr>\n",
       "      <th>395</th>\n",
       "      <td>32.0</td>\n",
       "      <td>4</td>\n",
       "      <td>135.0</td>\n",
       "    </tr>\n",
       "    <tr>\n",
       "      <th>396</th>\n",
       "      <td>28.0</td>\n",
       "      <td>4</td>\n",
       "      <td>120.0</td>\n",
       "    </tr>\n",
       "    <tr>\n",
       "      <th>397</th>\n",
       "      <td>31.0</td>\n",
       "      <td>4</td>\n",
       "      <td>119.0</td>\n",
       "    </tr>\n",
       "  </tbody>\n",
       "</table>\n",
       "<p>398 rows × 3 columns</p>\n",
       "</div>"
      ],
      "text/plain": [
       "      mpg  cylinders  displacement\n",
       "0    18.0          8         307.0\n",
       "1    15.0          8         350.0\n",
       "2    18.0          8         318.0\n",
       "3    16.0          8         304.0\n",
       "4    17.0          8         302.0\n",
       "..    ...        ...           ...\n",
       "393  27.0          4         140.0\n",
       "394  44.0          4          97.0\n",
       "395  32.0          4         135.0\n",
       "396  28.0          4         120.0\n",
       "397  31.0          4         119.0\n",
       "\n",
       "[398 rows x 3 columns]"
      ]
     },
     "execution_count": 156,
     "metadata": {},
     "output_type": "execute_result"
    }
   ],
   "source": [
    "df[[\"mpg\",\"cylinders\",\"displacement\"]]"
   ]
  },
  {
   "cell_type": "code",
   "execution_count": 158,
   "id": "ca4cd7fe-3926-454f-868e-ade8a4318519",
   "metadata": {},
   "outputs": [],
   "source": [
    "new_df=df[[\"car name\",\"weight\"]]"
   ]
  },
  {
   "cell_type": "code",
   "execution_count": 160,
   "id": "d19767c9-9dcd-4046-9d04-e2bb488b531f",
   "metadata": {},
   "outputs": [],
   "source": [
    "new_df.to_excel(\"output.xlsx\",sheet_name=\"sheet1\")"
   ]
  },
  {
   "cell_type": "code",
   "execution_count": 161,
   "id": "c5f622f5-7e87-4819-b18d-dad6bc1e6b35",
   "metadata": {},
   "outputs": [
    {
     "data": {
      "text/html": [
       "<div>\n",
       "<style scoped>\n",
       "    .dataframe tbody tr th:only-of-type {\n",
       "        vertical-align: middle;\n",
       "    }\n",
       "\n",
       "    .dataframe tbody tr th {\n",
       "        vertical-align: top;\n",
       "    }\n",
       "\n",
       "    .dataframe thead th {\n",
       "        text-align: right;\n",
       "    }\n",
       "</style>\n",
       "<table border=\"1\" class=\"dataframe\">\n",
       "  <thead>\n",
       "    <tr style=\"text-align: right;\">\n",
       "      <th></th>\n",
       "      <th>mpg</th>\n",
       "      <th>cylinders</th>\n",
       "      <th>displacement</th>\n",
       "      <th>weight</th>\n",
       "      <th>acceleration</th>\n",
       "      <th>model year</th>\n",
       "      <th>origin</th>\n",
       "    </tr>\n",
       "  </thead>\n",
       "  <tbody>\n",
       "    <tr>\n",
       "      <th>count</th>\n",
       "      <td>398.000000</td>\n",
       "      <td>398.000000</td>\n",
       "      <td>398.000000</td>\n",
       "      <td>398.000000</td>\n",
       "      <td>398.000000</td>\n",
       "      <td>398.000000</td>\n",
       "      <td>398.000000</td>\n",
       "    </tr>\n",
       "    <tr>\n",
       "      <th>mean</th>\n",
       "      <td>23.514573</td>\n",
       "      <td>5.454774</td>\n",
       "      <td>193.425879</td>\n",
       "      <td>2970.424623</td>\n",
       "      <td>15.568090</td>\n",
       "      <td>76.010050</td>\n",
       "      <td>1.572864</td>\n",
       "    </tr>\n",
       "    <tr>\n",
       "      <th>std</th>\n",
       "      <td>7.815984</td>\n",
       "      <td>1.701004</td>\n",
       "      <td>104.269838</td>\n",
       "      <td>846.841774</td>\n",
       "      <td>2.757689</td>\n",
       "      <td>3.697627</td>\n",
       "      <td>0.802055</td>\n",
       "    </tr>\n",
       "    <tr>\n",
       "      <th>min</th>\n",
       "      <td>9.000000</td>\n",
       "      <td>3.000000</td>\n",
       "      <td>68.000000</td>\n",
       "      <td>1613.000000</td>\n",
       "      <td>8.000000</td>\n",
       "      <td>70.000000</td>\n",
       "      <td>1.000000</td>\n",
       "    </tr>\n",
       "    <tr>\n",
       "      <th>25%</th>\n",
       "      <td>17.500000</td>\n",
       "      <td>4.000000</td>\n",
       "      <td>104.250000</td>\n",
       "      <td>2223.750000</td>\n",
       "      <td>13.825000</td>\n",
       "      <td>73.000000</td>\n",
       "      <td>1.000000</td>\n",
       "    </tr>\n",
       "    <tr>\n",
       "      <th>50%</th>\n",
       "      <td>23.000000</td>\n",
       "      <td>4.000000</td>\n",
       "      <td>148.500000</td>\n",
       "      <td>2803.500000</td>\n",
       "      <td>15.500000</td>\n",
       "      <td>76.000000</td>\n",
       "      <td>1.000000</td>\n",
       "    </tr>\n",
       "    <tr>\n",
       "      <th>75%</th>\n",
       "      <td>29.000000</td>\n",
       "      <td>8.000000</td>\n",
       "      <td>262.000000</td>\n",
       "      <td>3608.000000</td>\n",
       "      <td>17.175000</td>\n",
       "      <td>79.000000</td>\n",
       "      <td>2.000000</td>\n",
       "    </tr>\n",
       "    <tr>\n",
       "      <th>max</th>\n",
       "      <td>46.600000</td>\n",
       "      <td>8.000000</td>\n",
       "      <td>455.000000</td>\n",
       "      <td>5140.000000</td>\n",
       "      <td>24.800000</td>\n",
       "      <td>82.000000</td>\n",
       "      <td>3.000000</td>\n",
       "    </tr>\n",
       "  </tbody>\n",
       "</table>\n",
       "</div>"
      ],
      "text/plain": [
       "              mpg   cylinders  displacement       weight  acceleration  \\\n",
       "count  398.000000  398.000000    398.000000   398.000000    398.000000   \n",
       "mean    23.514573    5.454774    193.425879  2970.424623     15.568090   \n",
       "std      7.815984    1.701004    104.269838   846.841774      2.757689   \n",
       "min      9.000000    3.000000     68.000000  1613.000000      8.000000   \n",
       "25%     17.500000    4.000000    104.250000  2223.750000     13.825000   \n",
       "50%     23.000000    4.000000    148.500000  2803.500000     15.500000   \n",
       "75%     29.000000    8.000000    262.000000  3608.000000     17.175000   \n",
       "max     46.600000    8.000000    455.000000  5140.000000     24.800000   \n",
       "\n",
       "       model year      origin  \n",
       "count  398.000000  398.000000  \n",
       "mean    76.010050    1.572864  \n",
       "std      3.697627    0.802055  \n",
       "min     70.000000    1.000000  \n",
       "25%     73.000000    1.000000  \n",
       "50%     76.000000    1.000000  \n",
       "75%     79.000000    2.000000  \n",
       "max     82.000000    3.000000  "
      ]
     },
     "execution_count": 161,
     "metadata": {},
     "output_type": "execute_result"
    }
   ],
   "source": [
    "df.describe()"
   ]
  },
  {
   "cell_type": "code",
   "execution_count": 162,
   "id": "014e3eae-5ab9-4688-8173-81d92f8680b3",
   "metadata": {},
   "outputs": [
    {
     "name": "stdout",
     "output_type": "stream",
     "text": [
      "<class 'pandas.core.frame.DataFrame'>\n",
      "RangeIndex: 398 entries, 0 to 397\n",
      "Data columns (total 9 columns):\n",
      " #   Column        Non-Null Count  Dtype  \n",
      "---  ------        --------------  -----  \n",
      " 0   mpg           398 non-null    float64\n",
      " 1   cylinders     398 non-null    int64  \n",
      " 2   displacement  398 non-null    float64\n",
      " 3   horsepower    398 non-null    object \n",
      " 4   weight        398 non-null    int64  \n",
      " 5   acceleration  398 non-null    float64\n",
      " 6   model year    398 non-null    int64  \n",
      " 7   origin        398 non-null    int64  \n",
      " 8   car name      398 non-null    object \n",
      "dtypes: float64(3), int64(4), object(2)\n",
      "memory usage: 28.1+ KB\n"
     ]
    }
   ],
   "source": [
    "df.info()"
   ]
  },
  {
   "cell_type": "code",
   "execution_count": 166,
   "id": "470c58b3-7a9a-458f-9c49-ceb0cd4e9ac8",
   "metadata": {},
   "outputs": [
    {
     "data": {
      "text/html": [
       "<div>\n",
       "<style scoped>\n",
       "    .dataframe tbody tr th:only-of-type {\n",
       "        vertical-align: middle;\n",
       "    }\n",
       "\n",
       "    .dataframe tbody tr th {\n",
       "        vertical-align: top;\n",
       "    }\n",
       "\n",
       "    .dataframe thead th {\n",
       "        text-align: right;\n",
       "    }\n",
       "</style>\n",
       "<table border=\"1\" class=\"dataframe\">\n",
       "  <thead>\n",
       "    <tr style=\"text-align: right;\">\n",
       "      <th></th>\n",
       "      <th>mpg</th>\n",
       "      <th>cylinders</th>\n",
       "      <th>displacement</th>\n",
       "      <th>horsepower</th>\n",
       "      <th>weight</th>\n",
       "      <th>acceleration</th>\n",
       "      <th>origin</th>\n",
       "      <th>car name</th>\n",
       "    </tr>\n",
       "    <tr>\n",
       "      <th>model year</th>\n",
       "      <th></th>\n",
       "      <th></th>\n",
       "      <th></th>\n",
       "      <th></th>\n",
       "      <th></th>\n",
       "      <th></th>\n",
       "      <th></th>\n",
       "      <th></th>\n",
       "    </tr>\n",
       "  </thead>\n",
       "  <tbody>\n",
       "    <tr>\n",
       "      <th>70</th>\n",
       "      <td>27.0</td>\n",
       "      <td>8</td>\n",
       "      <td>455.0</td>\n",
       "      <td>97</td>\n",
       "      <td>4732</td>\n",
       "      <td>20.5</td>\n",
       "      <td>3</td>\n",
       "      <td>volkswagen 1131 deluxe sedan</td>\n",
       "    </tr>\n",
       "    <tr>\n",
       "      <th>71</th>\n",
       "      <td>35.0</td>\n",
       "      <td>8</td>\n",
       "      <td>400.0</td>\n",
       "      <td>?</td>\n",
       "      <td>5140</td>\n",
       "      <td>20.5</td>\n",
       "      <td>3</td>\n",
       "      <td>volkswagen model 111</td>\n",
       "    </tr>\n",
       "    <tr>\n",
       "      <th>72</th>\n",
       "      <td>28.0</td>\n",
       "      <td>8</td>\n",
       "      <td>429.0</td>\n",
       "      <td>97</td>\n",
       "      <td>4633</td>\n",
       "      <td>23.5</td>\n",
       "      <td>3</td>\n",
       "      <td>volvo 145e (sw)</td>\n",
       "    </tr>\n",
       "    <tr>\n",
       "      <th>73</th>\n",
       "      <td>29.0</td>\n",
       "      <td>8</td>\n",
       "      <td>455.0</td>\n",
       "      <td>95</td>\n",
       "      <td>4997</td>\n",
       "      <td>21.0</td>\n",
       "      <td>3</td>\n",
       "      <td>volvo 144ea</td>\n",
       "    </tr>\n",
       "    <tr>\n",
       "      <th>74</th>\n",
       "      <td>32.0</td>\n",
       "      <td>8</td>\n",
       "      <td>350.0</td>\n",
       "      <td>?</td>\n",
       "      <td>4699</td>\n",
       "      <td>21.0</td>\n",
       "      <td>3</td>\n",
       "      <td>volkswagen dasher</td>\n",
       "    </tr>\n",
       "    <tr>\n",
       "      <th>75</th>\n",
       "      <td>33.0</td>\n",
       "      <td>8</td>\n",
       "      <td>400.0</td>\n",
       "      <td>98</td>\n",
       "      <td>4668</td>\n",
       "      <td>21.0</td>\n",
       "      <td>3</td>\n",
       "      <td>volvo 244dl</td>\n",
       "    </tr>\n",
       "    <tr>\n",
       "      <th>76</th>\n",
       "      <td>33.0</td>\n",
       "      <td>8</td>\n",
       "      <td>351.0</td>\n",
       "      <td>95</td>\n",
       "      <td>4380</td>\n",
       "      <td>22.2</td>\n",
       "      <td>3</td>\n",
       "      <td>vw rabbit</td>\n",
       "    </tr>\n",
       "    <tr>\n",
       "      <th>77</th>\n",
       "      <td>36.0</td>\n",
       "      <td>8</td>\n",
       "      <td>400.0</td>\n",
       "      <td>98</td>\n",
       "      <td>4335</td>\n",
       "      <td>19.0</td>\n",
       "      <td>3</td>\n",
       "      <td>volkswagen rabbit custom</td>\n",
       "    </tr>\n",
       "    <tr>\n",
       "      <th>78</th>\n",
       "      <td>43.1</td>\n",
       "      <td>8</td>\n",
       "      <td>318.0</td>\n",
       "      <td>97</td>\n",
       "      <td>4080</td>\n",
       "      <td>21.5</td>\n",
       "      <td>3</td>\n",
       "      <td>volvo 264gl</td>\n",
       "    </tr>\n",
       "    <tr>\n",
       "      <th>79</th>\n",
       "      <td>37.3</td>\n",
       "      <td>8</td>\n",
       "      <td>360.0</td>\n",
       "      <td>90</td>\n",
       "      <td>4360</td>\n",
       "      <td>24.8</td>\n",
       "      <td>3</td>\n",
       "      <td>vw rabbit custom</td>\n",
       "    </tr>\n",
       "    <tr>\n",
       "      <th>80</th>\n",
       "      <td>46.6</td>\n",
       "      <td>6</td>\n",
       "      <td>225.0</td>\n",
       "      <td>?</td>\n",
       "      <td>3381</td>\n",
       "      <td>23.7</td>\n",
       "      <td>3</td>\n",
       "      <td>vw rabbit c (diesel)</td>\n",
       "    </tr>\n",
       "    <tr>\n",
       "      <th>81</th>\n",
       "      <td>39.1</td>\n",
       "      <td>8</td>\n",
       "      <td>350.0</td>\n",
       "      <td>?</td>\n",
       "      <td>3725</td>\n",
       "      <td>20.7</td>\n",
       "      <td>3</td>\n",
       "      <td>volvo diesel</td>\n",
       "    </tr>\n",
       "    <tr>\n",
       "      <th>82</th>\n",
       "      <td>44.0</td>\n",
       "      <td>6</td>\n",
       "      <td>262.0</td>\n",
       "      <td>?</td>\n",
       "      <td>3035</td>\n",
       "      <td>24.6</td>\n",
       "      <td>3</td>\n",
       "      <td>vw pickup</td>\n",
       "    </tr>\n",
       "  </tbody>\n",
       "</table>\n",
       "</div>"
      ],
      "text/plain": [
       "             mpg  cylinders  displacement horsepower  weight  acceleration  \\\n",
       "model year                                                                   \n",
       "70          27.0          8         455.0         97    4732          20.5   \n",
       "71          35.0          8         400.0          ?    5140          20.5   \n",
       "72          28.0          8         429.0         97    4633          23.5   \n",
       "73          29.0          8         455.0         95    4997          21.0   \n",
       "74          32.0          8         350.0          ?    4699          21.0   \n",
       "75          33.0          8         400.0         98    4668          21.0   \n",
       "76          33.0          8         351.0         95    4380          22.2   \n",
       "77          36.0          8         400.0         98    4335          19.0   \n",
       "78          43.1          8         318.0         97    4080          21.5   \n",
       "79          37.3          8         360.0         90    4360          24.8   \n",
       "80          46.6          6         225.0          ?    3381          23.7   \n",
       "81          39.1          8         350.0          ?    3725          20.7   \n",
       "82          44.0          6         262.0          ?    3035          24.6   \n",
       "\n",
       "            origin                      car name  \n",
       "model year                                        \n",
       "70               3  volkswagen 1131 deluxe sedan  \n",
       "71               3          volkswagen model 111  \n",
       "72               3               volvo 145e (sw)  \n",
       "73               3                   volvo 144ea  \n",
       "74               3             volkswagen dasher  \n",
       "75               3                   volvo 244dl  \n",
       "76               3                     vw rabbit  \n",
       "77               3      volkswagen rabbit custom  \n",
       "78               3                   volvo 264gl  \n",
       "79               3              vw rabbit custom  \n",
       "80               3          vw rabbit c (diesel)  \n",
       "81               3                  volvo diesel  \n",
       "82               3                     vw pickup  "
      ]
     },
     "execution_count": 166,
     "metadata": {},
     "output_type": "execute_result"
    }
   ],
   "source": [
    "g=df.groupby(\"model year\")\n",
    "g.max()"
   ]
  },
  {
   "cell_type": "code",
   "execution_count": 168,
   "id": "3fe7a375-53d3-4dc6-bc66-8f0177c8b1bd",
   "metadata": {},
   "outputs": [
    {
     "data": {
      "text/html": [
       "<div>\n",
       "<style scoped>\n",
       "    .dataframe tbody tr th:only-of-type {\n",
       "        vertical-align: middle;\n",
       "    }\n",
       "\n",
       "    .dataframe tbody tr th {\n",
       "        vertical-align: top;\n",
       "    }\n",
       "\n",
       "    .dataframe thead th {\n",
       "        text-align: right;\n",
       "    }\n",
       "</style>\n",
       "<table border=\"1\" class=\"dataframe\">\n",
       "  <thead>\n",
       "    <tr style=\"text-align: right;\">\n",
       "      <th></th>\n",
       "      <th>mpg</th>\n",
       "      <th>cylinders</th>\n",
       "      <th>displacement</th>\n",
       "      <th>horsepower</th>\n",
       "      <th>weight</th>\n",
       "      <th>acceleration</th>\n",
       "      <th>model year</th>\n",
       "      <th>origin</th>\n",
       "      <th>car name</th>\n",
       "    </tr>\n",
       "  </thead>\n",
       "  <tbody>\n",
       "    <tr>\n",
       "      <th>312</th>\n",
       "      <td>37.2</td>\n",
       "      <td>4</td>\n",
       "      <td>86.0</td>\n",
       "      <td>65</td>\n",
       "      <td>2019</td>\n",
       "      <td>16.4</td>\n",
       "      <td>80</td>\n",
       "      <td>3</td>\n",
       "      <td>datsun 310</td>\n",
       "    </tr>\n",
       "    <tr>\n",
       "      <th>310</th>\n",
       "      <td>38.1</td>\n",
       "      <td>4</td>\n",
       "      <td>89.0</td>\n",
       "      <td>60</td>\n",
       "      <td>1968</td>\n",
       "      <td>18.8</td>\n",
       "      <td>80</td>\n",
       "      <td>3</td>\n",
       "      <td>toyota corolla tercel</td>\n",
       "    </tr>\n",
       "    <tr>\n",
       "      <th>34</th>\n",
       "      <td>16.0</td>\n",
       "      <td>6</td>\n",
       "      <td>225.0</td>\n",
       "      <td>105</td>\n",
       "      <td>3439</td>\n",
       "      <td>15.5</td>\n",
       "      <td>71</td>\n",
       "      <td>1</td>\n",
       "      <td>plymouth satellite custom</td>\n",
       "    </tr>\n",
       "    <tr>\n",
       "      <th>100</th>\n",
       "      <td>18.0</td>\n",
       "      <td>6</td>\n",
       "      <td>250.0</td>\n",
       "      <td>88</td>\n",
       "      <td>3021</td>\n",
       "      <td>16.5</td>\n",
       "      <td>73</td>\n",
       "      <td>1</td>\n",
       "      <td>ford maverick</td>\n",
       "    </tr>\n",
       "    <tr>\n",
       "      <th>381</th>\n",
       "      <td>36.0</td>\n",
       "      <td>4</td>\n",
       "      <td>107.0</td>\n",
       "      <td>75</td>\n",
       "      <td>2205</td>\n",
       "      <td>14.5</td>\n",
       "      <td>82</td>\n",
       "      <td>3</td>\n",
       "      <td>honda accord</td>\n",
       "    </tr>\n",
       "    <tr>\n",
       "      <th>333</th>\n",
       "      <td>32.7</td>\n",
       "      <td>6</td>\n",
       "      <td>168.0</td>\n",
       "      <td>132</td>\n",
       "      <td>2910</td>\n",
       "      <td>11.4</td>\n",
       "      <td>80</td>\n",
       "      <td>3</td>\n",
       "      <td>datsun 280-zx</td>\n",
       "    </tr>\n",
       "    <tr>\n",
       "      <th>23</th>\n",
       "      <td>26.0</td>\n",
       "      <td>4</td>\n",
       "      <td>121.0</td>\n",
       "      <td>113</td>\n",
       "      <td>2234</td>\n",
       "      <td>12.5</td>\n",
       "      <td>70</td>\n",
       "      <td>2</td>\n",
       "      <td>bmw 2002</td>\n",
       "    </tr>\n",
       "    <tr>\n",
       "      <th>36</th>\n",
       "      <td>19.0</td>\n",
       "      <td>6</td>\n",
       "      <td>250.0</td>\n",
       "      <td>88</td>\n",
       "      <td>3302</td>\n",
       "      <td>15.5</td>\n",
       "      <td>71</td>\n",
       "      <td>1</td>\n",
       "      <td>ford torino 500</td>\n",
       "    </tr>\n",
       "    <tr>\n",
       "      <th>38</th>\n",
       "      <td>14.0</td>\n",
       "      <td>8</td>\n",
       "      <td>350.0</td>\n",
       "      <td>165</td>\n",
       "      <td>4209</td>\n",
       "      <td>12.0</td>\n",
       "      <td>71</td>\n",
       "      <td>1</td>\n",
       "      <td>chevrolet impala</td>\n",
       "    </tr>\n",
       "    <tr>\n",
       "      <th>338</th>\n",
       "      <td>27.2</td>\n",
       "      <td>4</td>\n",
       "      <td>135.0</td>\n",
       "      <td>84</td>\n",
       "      <td>2490</td>\n",
       "      <td>15.7</td>\n",
       "      <td>81</td>\n",
       "      <td>1</td>\n",
       "      <td>plymouth reliant</td>\n",
       "    </tr>\n",
       "  </tbody>\n",
       "</table>\n",
       "</div>"
      ],
      "text/plain": [
       "      mpg  cylinders  displacement horsepower  weight  acceleration  \\\n",
       "312  37.2          4          86.0         65    2019          16.4   \n",
       "310  38.1          4          89.0         60    1968          18.8   \n",
       "34   16.0          6         225.0        105    3439          15.5   \n",
       "100  18.0          6         250.0         88    3021          16.5   \n",
       "381  36.0          4         107.0         75    2205          14.5   \n",
       "333  32.7          6         168.0        132    2910          11.4   \n",
       "23   26.0          4         121.0        113    2234          12.5   \n",
       "36   19.0          6         250.0         88    3302          15.5   \n",
       "38   14.0          8         350.0        165    4209          12.0   \n",
       "338  27.2          4         135.0         84    2490          15.7   \n",
       "\n",
       "     model year  origin                   car name  \n",
       "312          80       3                 datsun 310  \n",
       "310          80       3      toyota corolla tercel  \n",
       "34           71       1  plymouth satellite custom  \n",
       "100          73       1              ford maverick  \n",
       "381          82       3               honda accord  \n",
       "333          80       3              datsun 280-zx  \n",
       "23           70       2                   bmw 2002  \n",
       "36           71       1            ford torino 500  \n",
       "38           71       1           chevrolet impala  \n",
       "338          81       1           plymouth reliant  "
      ]
     },
     "execution_count": 168,
     "metadata": {},
     "output_type": "execute_result"
    }
   ],
   "source": [
    "df_sample = df.sample(10)\n",
    "df_sample"
   ]
  },
  {
   "cell_type": "code",
   "execution_count": 170,
   "id": "3b47cf6b-2db8-4e0e-a502-834672738511",
   "metadata": {},
   "outputs": [
    {
     "name": "stdout",
     "output_type": "stream",
     "text": [
      "70\n",
      "     mpg  cylinders  displacement horsepower  weight  acceleration  \\\n",
      "0   18.0          8         307.0        130    3504          12.0   \n",
      "1   15.0          8         350.0        165    3693          11.5   \n",
      "2   18.0          8         318.0        150    3436          11.0   \n",
      "3   16.0          8         304.0        150    3433          12.0   \n",
      "4   17.0          8         302.0        140    3449          10.5   \n",
      "5   15.0          8         429.0        198    4341          10.0   \n",
      "6   14.0          8         454.0        220    4354           9.0   \n",
      "7   14.0          8         440.0        215    4312           8.5   \n",
      "8   14.0          8         455.0        225    4425          10.0   \n",
      "9   15.0          8         390.0        190    3850           8.5   \n",
      "10  15.0          8         383.0        170    3563          10.0   \n",
      "11  14.0          8         340.0        160    3609           8.0   \n",
      "12  15.0          8         400.0        150    3761           9.5   \n",
      "13  14.0          8         455.0        225    3086          10.0   \n",
      "14  24.0          4         113.0         95    2372          15.0   \n",
      "15  22.0          6         198.0         95    2833          15.5   \n",
      "16  18.0          6         199.0         97    2774          15.5   \n",
      "17  21.0          6         200.0         85    2587          16.0   \n",
      "18  27.0          4          97.0         88    2130          14.5   \n",
      "19  26.0          4          97.0         46    1835          20.5   \n",
      "20  25.0          4         110.0         87    2672          17.5   \n",
      "21  24.0          4         107.0         90    2430          14.5   \n",
      "22  25.0          4         104.0         95    2375          17.5   \n",
      "23  26.0          4         121.0        113    2234          12.5   \n",
      "24  21.0          6         199.0         90    2648          15.0   \n",
      "25  10.0          8         360.0        215    4615          14.0   \n",
      "26  10.0          8         307.0        200    4376          15.0   \n",
      "27  11.0          8         318.0        210    4382          13.5   \n",
      "28   9.0          8         304.0        193    4732          18.5   \n",
      "\n",
      "    model year  origin                      car name  \n",
      "0           70       1     chevrolet chevelle malibu  \n",
      "1           70       1             buick skylark 320  \n",
      "2           70       1            plymouth satellite  \n",
      "3           70       1                 amc rebel sst  \n",
      "4           70       1                   ford torino  \n",
      "5           70       1              ford galaxie 500  \n",
      "6           70       1              chevrolet impala  \n",
      "7           70       1             plymouth fury iii  \n",
      "8           70       1              pontiac catalina  \n",
      "9           70       1            amc ambassador dpl  \n",
      "10          70       1           dodge challenger se  \n",
      "11          70       1            plymouth 'cuda 340  \n",
      "12          70       1         chevrolet monte carlo  \n",
      "13          70       1       buick estate wagon (sw)  \n",
      "14          70       3         toyota corona mark ii  \n",
      "15          70       1               plymouth duster  \n",
      "16          70       1                    amc hornet  \n",
      "17          70       1                 ford maverick  \n",
      "18          70       3                  datsun pl510  \n",
      "19          70       2  volkswagen 1131 deluxe sedan  \n",
      "20          70       2                   peugeot 504  \n",
      "21          70       2                   audi 100 ls  \n",
      "22          70       2                      saab 99e  \n",
      "23          70       2                      bmw 2002  \n",
      "24          70       1                   amc gremlin  \n",
      "25          70       1                     ford f250  \n",
      "26          70       1                     chevy c20  \n",
      "27          70       1                    dodge d200  \n",
      "28          70       1                      hi 1200d  \n",
      "71\n",
      "     mpg  cylinders  displacement horsepower  weight  acceleration  \\\n",
      "29  27.0          4          97.0         88    2130          14.5   \n",
      "30  28.0          4         140.0         90    2264          15.5   \n",
      "31  25.0          4         113.0         95    2228          14.0   \n",
      "32  25.0          4          98.0          ?    2046          19.0   \n",
      "33  19.0          6         232.0        100    2634          13.0   \n",
      "34  16.0          6         225.0        105    3439          15.5   \n",
      "35  17.0          6         250.0        100    3329          15.5   \n",
      "36  19.0          6         250.0         88    3302          15.5   \n",
      "37  18.0          6         232.0        100    3288          15.5   \n",
      "38  14.0          8         350.0        165    4209          12.0   \n",
      "39  14.0          8         400.0        175    4464          11.5   \n",
      "40  14.0          8         351.0        153    4154          13.5   \n",
      "41  14.0          8         318.0        150    4096          13.0   \n",
      "42  12.0          8         383.0        180    4955          11.5   \n",
      "43  13.0          8         400.0        170    4746          12.0   \n",
      "44  13.0          8         400.0        175    5140          12.0   \n",
      "45  18.0          6         258.0        110    2962          13.5   \n",
      "46  22.0          4         140.0         72    2408          19.0   \n",
      "47  19.0          6         250.0        100    3282          15.0   \n",
      "48  18.0          6         250.0         88    3139          14.5   \n",
      "49  23.0          4         122.0         86    2220          14.0   \n",
      "50  28.0          4         116.0         90    2123          14.0   \n",
      "51  30.0          4          79.0         70    2074          19.5   \n",
      "52  30.0          4          88.0         76    2065          14.5   \n",
      "53  31.0          4          71.0         65    1773          19.0   \n",
      "54  35.0          4          72.0         69    1613          18.0   \n",
      "55  27.0          4          97.0         60    1834          19.0   \n",
      "56  26.0          4          91.0         70    1955          20.5   \n",
      "\n",
      "    model year  origin                    car name  \n",
      "29          71       3                datsun pl510  \n",
      "30          71       1         chevrolet vega 2300  \n",
      "31          71       3               toyota corona  \n",
      "32          71       1                  ford pinto  \n",
      "33          71       1                 amc gremlin  \n",
      "34          71       1   plymouth satellite custom  \n",
      "35          71       1   chevrolet chevelle malibu  \n",
      "36          71       1             ford torino 500  \n",
      "37          71       1                 amc matador  \n",
      "38          71       1            chevrolet impala  \n",
      "39          71       1   pontiac catalina brougham  \n",
      "40          71       1            ford galaxie 500  \n",
      "41          71       1           plymouth fury iii  \n",
      "42          71       1           dodge monaco (sw)  \n",
      "43          71       1    ford country squire (sw)  \n",
      "44          71       1         pontiac safari (sw)  \n",
      "45          71       1  amc hornet sportabout (sw)  \n",
      "46          71       1         chevrolet vega (sw)  \n",
      "47          71       1            pontiac firebird  \n",
      "48          71       1                ford mustang  \n",
      "49          71       1          mercury capri 2000  \n",
      "50          71       2                   opel 1900  \n",
      "51          71       2                 peugeot 304  \n",
      "52          71       2                   fiat 124b  \n",
      "53          71       3         toyota corolla 1200  \n",
      "54          71       3                 datsun 1200  \n",
      "55          71       2        volkswagen model 111  \n",
      "56          71       1            plymouth cricket  \n",
      "72\n",
      "     mpg  cylinders  displacement horsepower  weight  acceleration  \\\n",
      "57  24.0          4         113.0         95    2278          15.5   \n",
      "58  25.0          4          97.5         80    2126          17.0   \n",
      "59  23.0          4          97.0         54    2254          23.5   \n",
      "60  20.0          4         140.0         90    2408          19.5   \n",
      "61  21.0          4         122.0         86    2226          16.5   \n",
      "62  13.0          8         350.0        165    4274          12.0   \n",
      "63  14.0          8         400.0        175    4385          12.0   \n",
      "64  15.0          8         318.0        150    4135          13.5   \n",
      "65  14.0          8         351.0        153    4129          13.0   \n",
      "66  17.0          8         304.0        150    3672          11.5   \n",
      "67  11.0          8         429.0        208    4633          11.0   \n",
      "68  13.0          8         350.0        155    4502          13.5   \n",
      "69  12.0          8         350.0        160    4456          13.5   \n",
      "70  13.0          8         400.0        190    4422          12.5   \n",
      "71  19.0          3          70.0         97    2330          13.5   \n",
      "72  15.0          8         304.0        150    3892          12.5   \n",
      "73  13.0          8         307.0        130    4098          14.0   \n",
      "74  13.0          8         302.0        140    4294          16.0   \n",
      "75  14.0          8         318.0        150    4077          14.0   \n",
      "76  18.0          4         121.0        112    2933          14.5   \n",
      "77  22.0          4         121.0         76    2511          18.0   \n",
      "78  21.0          4         120.0         87    2979          19.5   \n",
      "79  26.0          4          96.0         69    2189          18.0   \n",
      "80  22.0          4         122.0         86    2395          16.0   \n",
      "81  28.0          4          97.0         92    2288          17.0   \n",
      "82  23.0          4         120.0         97    2506          14.5   \n",
      "83  28.0          4          98.0         80    2164          15.0   \n",
      "84  27.0          4          97.0         88    2100          16.5   \n",
      "\n",
      "    model year  origin                          car name  \n",
      "57          72       3             toyota corona hardtop  \n",
      "58          72       1                dodge colt hardtop  \n",
      "59          72       2                 volkswagen type 3  \n",
      "60          72       1                    chevrolet vega  \n",
      "61          72       1               ford pinto runabout  \n",
      "62          72       1                  chevrolet impala  \n",
      "63          72       1                  pontiac catalina  \n",
      "64          72       1                 plymouth fury iii  \n",
      "65          72       1                  ford galaxie 500  \n",
      "66          72       1                amc ambassador sst  \n",
      "67          72       1                   mercury marquis  \n",
      "68          72       1              buick lesabre custom  \n",
      "69          72       1        oldsmobile delta 88 royale  \n",
      "70          72       1            chrysler newport royal  \n",
      "71          72       3                   mazda rx2 coupe  \n",
      "72          72       1                  amc matador (sw)  \n",
      "73          72       1  chevrolet chevelle concours (sw)  \n",
      "74          72       1             ford gran torino (sw)  \n",
      "75          72       1    plymouth satellite custom (sw)  \n",
      "76          72       2                   volvo 145e (sw)  \n",
      "77          72       2               volkswagen 411 (sw)  \n",
      "78          72       2                  peugeot 504 (sw)  \n",
      "79          72       2                   renault 12 (sw)  \n",
      "80          72       1                   ford pinto (sw)  \n",
      "81          72       3                   datsun 510 (sw)  \n",
      "82          72       3       toyouta corona mark ii (sw)  \n",
      "83          72       1                   dodge colt (sw)  \n",
      "84          72       3          toyota corolla 1600 (sw)  \n",
      "73\n",
      "      mpg  cylinders  displacement horsepower  weight  acceleration  \\\n",
      "85   13.0          8         350.0        175    4100          13.0   \n",
      "86   14.0          8         304.0        150    3672          11.5   \n",
      "87   13.0          8         350.0        145    3988          13.0   \n",
      "88   14.0          8         302.0        137    4042          14.5   \n",
      "89   15.0          8         318.0        150    3777          12.5   \n",
      "90   12.0          8         429.0        198    4952          11.5   \n",
      "91   13.0          8         400.0        150    4464          12.0   \n",
      "92   13.0          8         351.0        158    4363          13.0   \n",
      "93   14.0          8         318.0        150    4237          14.5   \n",
      "94   13.0          8         440.0        215    4735          11.0   \n",
      "95   12.0          8         455.0        225    4951          11.0   \n",
      "96   13.0          8         360.0        175    3821          11.0   \n",
      "97   18.0          6         225.0        105    3121          16.5   \n",
      "98   16.0          6         250.0        100    3278          18.0   \n",
      "99   18.0          6         232.0        100    2945          16.0   \n",
      "100  18.0          6         250.0         88    3021          16.5   \n",
      "101  23.0          6         198.0         95    2904          16.0   \n",
      "102  26.0          4          97.0         46    1950          21.0   \n",
      "103  11.0          8         400.0        150    4997          14.0   \n",
      "104  12.0          8         400.0        167    4906          12.5   \n",
      "105  13.0          8         360.0        170    4654          13.0   \n",
      "106  12.0          8         350.0        180    4499          12.5   \n",
      "107  18.0          6         232.0        100    2789          15.0   \n",
      "108  20.0          4          97.0         88    2279          19.0   \n",
      "109  21.0          4         140.0         72    2401          19.5   \n",
      "110  22.0          4         108.0         94    2379          16.5   \n",
      "111  18.0          3          70.0         90    2124          13.5   \n",
      "112  19.0          4         122.0         85    2310          18.5   \n",
      "113  21.0          6         155.0        107    2472          14.0   \n",
      "114  26.0          4          98.0         90    2265          15.5   \n",
      "115  15.0          8         350.0        145    4082          13.0   \n",
      "116  16.0          8         400.0        230    4278           9.5   \n",
      "117  29.0          4          68.0         49    1867          19.5   \n",
      "118  24.0          4         116.0         75    2158          15.5   \n",
      "119  20.0          4         114.0         91    2582          14.0   \n",
      "120  19.0          4         121.0        112    2868          15.5   \n",
      "121  15.0          8         318.0        150    3399          11.0   \n",
      "122  24.0          4         121.0        110    2660          14.0   \n",
      "123  20.0          6         156.0        122    2807          13.5   \n",
      "124  11.0          8         350.0        180    3664          11.0   \n",
      "\n",
      "     model year  origin                      car name  \n",
      "85           73       1             buick century 350  \n",
      "86           73       1                   amc matador  \n",
      "87           73       1              chevrolet malibu  \n",
      "88           73       1              ford gran torino  \n",
      "89           73       1          dodge coronet custom  \n",
      "90           73       1      mercury marquis brougham  \n",
      "91           73       1     chevrolet caprice classic  \n",
      "92           73       1                      ford ltd  \n",
      "93           73       1      plymouth fury gran sedan  \n",
      "94           73       1  chrysler new yorker brougham  \n",
      "95           73       1      buick electra 225 custom  \n",
      "96           73       1       amc ambassador brougham  \n",
      "97           73       1              plymouth valiant  \n",
      "98           73       1         chevrolet nova custom  \n",
      "99           73       1                    amc hornet  \n",
      "100          73       1                 ford maverick  \n",
      "101          73       1               plymouth duster  \n",
      "102          73       2       volkswagen super beetle  \n",
      "103          73       1              chevrolet impala  \n",
      "104          73       1                  ford country  \n",
      "105          73       1        plymouth custom suburb  \n",
      "106          73       1      oldsmobile vista cruiser  \n",
      "107          73       1                   amc gremlin  \n",
      "108          73       3                 toyota carina  \n",
      "109          73       1                chevrolet vega  \n",
      "110          73       3                    datsun 610  \n",
      "111          73       3                     maxda rx3  \n",
      "112          73       1                    ford pinto  \n",
      "113          73       1              mercury capri v6  \n",
      "114          73       2          fiat 124 sport coupe  \n",
      "115          73       1       chevrolet monte carlo s  \n",
      "116          73       1            pontiac grand prix  \n",
      "117          73       2                      fiat 128  \n",
      "118          73       2                    opel manta  \n",
      "119          73       2                    audi 100ls  \n",
      "120          73       2                   volvo 144ea  \n",
      "121          73       1             dodge dart custom  \n",
      "122          73       2                     saab 99le  \n",
      "123          73       3                toyota mark ii  \n",
      "124          73       1              oldsmobile omega  \n",
      "74\n",
      "      mpg  cylinders  displacement horsepower  weight  acceleration  \\\n",
      "125  20.0          6         198.0         95    3102          16.5   \n",
      "126  21.0          6         200.0          ?    2875          17.0   \n",
      "127  19.0          6         232.0        100    2901          16.0   \n",
      "128  15.0          6         250.0        100    3336          17.0   \n",
      "129  31.0          4          79.0         67    1950          19.0   \n",
      "130  26.0          4         122.0         80    2451          16.5   \n",
      "131  32.0          4          71.0         65    1836          21.0   \n",
      "132  25.0          4         140.0         75    2542          17.0   \n",
      "133  16.0          6         250.0        100    3781          17.0   \n",
      "134  16.0          6         258.0        110    3632          18.0   \n",
      "135  18.0          6         225.0        105    3613          16.5   \n",
      "136  16.0          8         302.0        140    4141          14.0   \n",
      "137  13.0          8         350.0        150    4699          14.5   \n",
      "138  14.0          8         318.0        150    4457          13.5   \n",
      "139  14.0          8         302.0        140    4638          16.0   \n",
      "140  14.0          8         304.0        150    4257          15.5   \n",
      "141  29.0          4          98.0         83    2219          16.5   \n",
      "142  26.0          4          79.0         67    1963          15.5   \n",
      "143  26.0          4          97.0         78    2300          14.5   \n",
      "144  31.0          4          76.0         52    1649          16.5   \n",
      "145  32.0          4          83.0         61    2003          19.0   \n",
      "146  28.0          4          90.0         75    2125          14.5   \n",
      "147  24.0          4          90.0         75    2108          15.5   \n",
      "148  26.0          4         116.0         75    2246          14.0   \n",
      "149  24.0          4         120.0         97    2489          15.0   \n",
      "150  26.0          4         108.0         93    2391          15.5   \n",
      "151  31.0          4          79.0         67    2000          16.0   \n",
      "\n",
      "     model year  origin                           car name  \n",
      "125          74       1                    plymouth duster  \n",
      "126          74       1                      ford maverick  \n",
      "127          74       1                         amc hornet  \n",
      "128          74       1                     chevrolet nova  \n",
      "129          74       3                        datsun b210  \n",
      "130          74       1                         ford pinto  \n",
      "131          74       3                toyota corolla 1200  \n",
      "132          74       1                     chevrolet vega  \n",
      "133          74       1  chevrolet chevelle malibu classic  \n",
      "134          74       1                        amc matador  \n",
      "135          74       1         plymouth satellite sebring  \n",
      "136          74       1                   ford gran torino  \n",
      "137          74       1           buick century luxus (sw)  \n",
      "138          74       1          dodge coronet custom (sw)  \n",
      "139          74       1              ford gran torino (sw)  \n",
      "140          74       1                   amc matador (sw)  \n",
      "141          74       2                           audi fox  \n",
      "142          74       2                  volkswagen dasher  \n",
      "143          74       2                         opel manta  \n",
      "144          74       3                      toyota corona  \n",
      "145          74       3                         datsun 710  \n",
      "146          74       1                         dodge colt  \n",
      "147          74       2                           fiat 128  \n",
      "148          74       2                        fiat 124 tc  \n",
      "149          74       3                        honda civic  \n",
      "150          74       3                             subaru  \n",
      "151          74       2                          fiat x1.9  \n",
      "75\n",
      "      mpg  cylinders  displacement horsepower  weight  acceleration  \\\n",
      "152  19.0          6         225.0         95    3264          16.0   \n",
      "153  18.0          6         250.0        105    3459          16.0   \n",
      "154  15.0          6         250.0         72    3432          21.0   \n",
      "155  15.0          6         250.0         72    3158          19.5   \n",
      "156  16.0          8         400.0        170    4668          11.5   \n",
      "157  15.0          8         350.0        145    4440          14.0   \n",
      "158  16.0          8         318.0        150    4498          14.5   \n",
      "159  14.0          8         351.0        148    4657          13.5   \n",
      "160  17.0          6         231.0        110    3907          21.0   \n",
      "161  16.0          6         250.0        105    3897          18.5   \n",
      "162  15.0          6         258.0        110    3730          19.0   \n",
      "163  18.0          6         225.0         95    3785          19.0   \n",
      "164  21.0          6         231.0        110    3039          15.0   \n",
      "165  20.0          8         262.0        110    3221          13.5   \n",
      "166  13.0          8         302.0        129    3169          12.0   \n",
      "167  29.0          4          97.0         75    2171          16.0   \n",
      "168  23.0          4         140.0         83    2639          17.0   \n",
      "169  20.0          6         232.0        100    2914          16.0   \n",
      "170  23.0          4         140.0         78    2592          18.5   \n",
      "171  24.0          4         134.0         96    2702          13.5   \n",
      "172  25.0          4          90.0         71    2223          16.5   \n",
      "173  24.0          4         119.0         97    2545          17.0   \n",
      "174  18.0          6         171.0         97    2984          14.5   \n",
      "175  29.0          4          90.0         70    1937          14.0   \n",
      "176  19.0          6         232.0         90    3211          17.0   \n",
      "177  23.0          4         115.0         95    2694          15.0   \n",
      "178  23.0          4         120.0         88    2957          17.0   \n",
      "179  22.0          4         121.0         98    2945          14.5   \n",
      "180  25.0          4         121.0        115    2671          13.5   \n",
      "181  33.0          4          91.0         53    1795          17.5   \n",
      "\n",
      "     model year  origin                   car name  \n",
      "152          75       1    plymouth valiant custom  \n",
      "153          75       1             chevrolet nova  \n",
      "154          75       1            mercury monarch  \n",
      "155          75       1              ford maverick  \n",
      "156          75       1           pontiac catalina  \n",
      "157          75       1          chevrolet bel air  \n",
      "158          75       1        plymouth grand fury  \n",
      "159          75       1                   ford ltd  \n",
      "160          75       1              buick century  \n",
      "161          75       1  chevroelt chevelle malibu  \n",
      "162          75       1                amc matador  \n",
      "163          75       1              plymouth fury  \n",
      "164          75       1              buick skyhawk  \n",
      "165          75       1        chevrolet monza 2+2  \n",
      "166          75       1            ford mustang ii  \n",
      "167          75       3             toyota corolla  \n",
      "168          75       1                 ford pinto  \n",
      "169          75       1                amc gremlin  \n",
      "170          75       1              pontiac astro  \n",
      "171          75       3              toyota corona  \n",
      "172          75       2          volkswagen dasher  \n",
      "173          75       3                 datsun 710  \n",
      "174          75       1                 ford pinto  \n",
      "175          75       2          volkswagen rabbit  \n",
      "176          75       1                  amc pacer  \n",
      "177          75       2                 audi 100ls  \n",
      "178          75       2                peugeot 504  \n",
      "179          75       2                volvo 244dl  \n",
      "180          75       2                  saab 99le  \n",
      "181          75       3           honda civic cvcc  \n",
      "76\n",
      "      mpg  cylinders  displacement horsepower  weight  acceleration  \\\n",
      "182  28.0          4         107.0         86    2464          15.5   \n",
      "183  25.0          4         116.0         81    2220          16.9   \n",
      "184  25.0          4         140.0         92    2572          14.9   \n",
      "185  26.0          4          98.0         79    2255          17.7   \n",
      "186  27.0          4         101.0         83    2202          15.3   \n",
      "187  17.5          8         305.0        140    4215          13.0   \n",
      "188  16.0          8         318.0        150    4190          13.0   \n",
      "189  15.5          8         304.0        120    3962          13.9   \n",
      "190  14.5          8         351.0        152    4215          12.8   \n",
      "191  22.0          6         225.0        100    3233          15.4   \n",
      "192  22.0          6         250.0        105    3353          14.5   \n",
      "193  24.0          6         200.0         81    3012          17.6   \n",
      "194  22.5          6         232.0         90    3085          17.6   \n",
      "195  29.0          4          85.0         52    2035          22.2   \n",
      "196  24.5          4          98.0         60    2164          22.1   \n",
      "197  29.0          4          90.0         70    1937          14.2   \n",
      "198  33.0          4          91.0         53    1795          17.4   \n",
      "199  20.0          6         225.0        100    3651          17.7   \n",
      "200  18.0          6         250.0         78    3574          21.0   \n",
      "201  18.5          6         250.0        110    3645          16.2   \n",
      "202  17.5          6         258.0         95    3193          17.8   \n",
      "203  29.5          4          97.0         71    1825          12.2   \n",
      "204  32.0          4          85.0         70    1990          17.0   \n",
      "205  28.0          4          97.0         75    2155          16.4   \n",
      "206  26.5          4         140.0         72    2565          13.6   \n",
      "207  20.0          4         130.0        102    3150          15.7   \n",
      "208  13.0          8         318.0        150    3940          13.2   \n",
      "209  19.0          4         120.0         88    3270          21.9   \n",
      "210  19.0          6         156.0        108    2930          15.5   \n",
      "211  16.5          6         168.0        120    3820          16.7   \n",
      "212  16.5          8         350.0        180    4380          12.1   \n",
      "213  13.0          8         350.0        145    4055          12.0   \n",
      "214  13.0          8         302.0        130    3870          15.0   \n",
      "215  13.0          8         318.0        150    3755          14.0   \n",
      "\n",
      "     model year  origin                           car name  \n",
      "182          76       2                           fiat 131  \n",
      "183          76       2                          opel 1900  \n",
      "184          76       1                           capri ii  \n",
      "185          76       1                         dodge colt  \n",
      "186          76       2                       renault 12tl  \n",
      "187          76       1  chevrolet chevelle malibu classic  \n",
      "188          76       1             dodge coronet brougham  \n",
      "189          76       1                        amc matador  \n",
      "190          76       1                   ford gran torino  \n",
      "191          76       1                   plymouth valiant  \n",
      "192          76       1                     chevrolet nova  \n",
      "193          76       1                      ford maverick  \n",
      "194          76       1                         amc hornet  \n",
      "195          76       1                 chevrolet chevette  \n",
      "196          76       1                    chevrolet woody  \n",
      "197          76       2                          vw rabbit  \n",
      "198          76       3                        honda civic  \n",
      "199          76       1                     dodge aspen se  \n",
      "200          76       1                  ford granada ghia  \n",
      "201          76       1                 pontiac ventura sj  \n",
      "202          76       1                      amc pacer d/l  \n",
      "203          76       2                  volkswagen rabbit  \n",
      "204          76       3                       datsun b-210  \n",
      "205          76       3                     toyota corolla  \n",
      "206          76       1                         ford pinto  \n",
      "207          76       2                          volvo 245  \n",
      "208          76       1         plymouth volare premier v8  \n",
      "209          76       2                        peugeot 504  \n",
      "210          76       3                     toyota mark ii  \n",
      "211          76       2                 mercedes-benz 280s  \n",
      "212          76       1                   cadillac seville  \n",
      "213          76       1                          chevy c10  \n",
      "214          76       1                          ford f108  \n",
      "215          76       1                         dodge d100  \n",
      "77\n",
      "      mpg  cylinders  displacement horsepower  weight  acceleration  \\\n",
      "216  31.5          4          98.0         68    2045          18.5   \n",
      "217  30.0          4         111.0         80    2155          14.8   \n",
      "218  36.0          4          79.0         58    1825          18.6   \n",
      "219  25.5          4         122.0         96    2300          15.5   \n",
      "220  33.5          4          85.0         70    1945          16.8   \n",
      "221  17.5          8         305.0        145    3880          12.5   \n",
      "222  17.0          8         260.0        110    4060          19.0   \n",
      "223  15.5          8         318.0        145    4140          13.7   \n",
      "224  15.0          8         302.0        130    4295          14.9   \n",
      "225  17.5          6         250.0        110    3520          16.4   \n",
      "226  20.5          6         231.0        105    3425          16.9   \n",
      "227  19.0          6         225.0        100    3630          17.7   \n",
      "228  18.5          6         250.0         98    3525          19.0   \n",
      "229  16.0          8         400.0        180    4220          11.1   \n",
      "230  15.5          8         350.0        170    4165          11.4   \n",
      "231  15.5          8         400.0        190    4325          12.2   \n",
      "232  16.0          8         351.0        149    4335          14.5   \n",
      "233  29.0          4          97.0         78    1940          14.5   \n",
      "234  24.5          4         151.0         88    2740          16.0   \n",
      "235  26.0          4          97.0         75    2265          18.2   \n",
      "236  25.5          4         140.0         89    2755          15.8   \n",
      "237  30.5          4          98.0         63    2051          17.0   \n",
      "238  33.5          4          98.0         83    2075          15.9   \n",
      "239  30.0          4          97.0         67    1985          16.4   \n",
      "240  30.5          4          97.0         78    2190          14.1   \n",
      "241  22.0          6         146.0         97    2815          14.5   \n",
      "242  21.5          4         121.0        110    2600          12.8   \n",
      "243  21.5          3          80.0        110    2720          13.5   \n",
      "\n",
      "     model year  origin                      car name  \n",
      "216          77       3             honda accord cvcc  \n",
      "217          77       1       buick opel isuzu deluxe  \n",
      "218          77       2                 renault 5 gtl  \n",
      "219          77       1             plymouth arrow gs  \n",
      "220          77       3         datsun f-10 hatchback  \n",
      "221          77       1     chevrolet caprice classic  \n",
      "222          77       1    oldsmobile cutlass supreme  \n",
      "223          77       1         dodge monaco brougham  \n",
      "224          77       1       mercury cougar brougham  \n",
      "225          77       1            chevrolet concours  \n",
      "226          77       1                 buick skylark  \n",
      "227          77       1        plymouth volare custom  \n",
      "228          77       1                  ford granada  \n",
      "229          77       1         pontiac grand prix lj  \n",
      "230          77       1  chevrolet monte carlo landau  \n",
      "231          77       1              chrysler cordoba  \n",
      "232          77       1              ford thunderbird  \n",
      "233          77       2      volkswagen rabbit custom  \n",
      "234          77       1         pontiac sunbird coupe  \n",
      "235          77       3       toyota corolla liftback  \n",
      "236          77       1           ford mustang ii 2+2  \n",
      "237          77       1            chevrolet chevette  \n",
      "238          77       1                dodge colt m/m  \n",
      "239          77       3                     subaru dl  \n",
      "240          77       2             volkswagen dasher  \n",
      "241          77       3                    datsun 810  \n",
      "242          77       2                      bmw 320i  \n",
      "243          77       3                    mazda rx-4  \n",
      "78\n",
      "      mpg  cylinders  displacement horsepower  weight  acceleration  \\\n",
      "244  43.1          4          90.0         48    1985          21.5   \n",
      "245  36.1          4          98.0         66    1800          14.4   \n",
      "246  32.8          4          78.0         52    1985          19.4   \n",
      "247  39.4          4          85.0         70    2070          18.6   \n",
      "248  36.1          4          91.0         60    1800          16.4   \n",
      "249  19.9          8         260.0        110    3365          15.5   \n",
      "250  19.4          8         318.0        140    3735          13.2   \n",
      "251  20.2          8         302.0        139    3570          12.8   \n",
      "252  19.2          6         231.0        105    3535          19.2   \n",
      "253  20.5          6         200.0         95    3155          18.2   \n",
      "254  20.2          6         200.0         85    2965          15.8   \n",
      "255  25.1          4         140.0         88    2720          15.4   \n",
      "256  20.5          6         225.0        100    3430          17.2   \n",
      "257  19.4          6         232.0         90    3210          17.2   \n",
      "258  20.6          6         231.0        105    3380          15.8   \n",
      "259  20.8          6         200.0         85    3070          16.7   \n",
      "260  18.6          6         225.0        110    3620          18.7   \n",
      "261  18.1          6         258.0        120    3410          15.1   \n",
      "262  19.2          8         305.0        145    3425          13.2   \n",
      "263  17.7          6         231.0        165    3445          13.4   \n",
      "264  18.1          8         302.0        139    3205          11.2   \n",
      "265  17.5          8         318.0        140    4080          13.7   \n",
      "266  30.0          4          98.0         68    2155          16.5   \n",
      "267  27.5          4         134.0         95    2560          14.2   \n",
      "268  27.2          4         119.0         97    2300          14.7   \n",
      "269  30.9          4         105.0         75    2230          14.5   \n",
      "270  21.1          4         134.0         95    2515          14.8   \n",
      "271  23.2          4         156.0        105    2745          16.7   \n",
      "272  23.8          4         151.0         85    2855          17.6   \n",
      "273  23.9          4         119.0         97    2405          14.9   \n",
      "274  20.3          5         131.0        103    2830          15.9   \n",
      "275  17.0          6         163.0        125    3140          13.6   \n",
      "276  21.6          4         121.0        115    2795          15.7   \n",
      "277  16.2          6         163.0        133    3410          15.8   \n",
      "278  31.5          4          89.0         71    1990          14.9   \n",
      "279  29.5          4          98.0         68    2135          16.6   \n",
      "\n",
      "     model year  origin                           car name  \n",
      "244          78       2    volkswagen rabbit custom diesel  \n",
      "245          78       1                        ford fiesta  \n",
      "246          78       3                   mazda glc deluxe  \n",
      "247          78       3                     datsun b210 gx  \n",
      "248          78       3                   honda civic cvcc  \n",
      "249          78       1  oldsmobile cutlass salon brougham  \n",
      "250          78       1                     dodge diplomat  \n",
      "251          78       1               mercury monarch ghia  \n",
      "252          78       1                 pontiac phoenix lj  \n",
      "253          78       1                   chevrolet malibu  \n",
      "254          78       1               ford fairmont (auto)  \n",
      "255          78       1                ford fairmont (man)  \n",
      "256          78       1                    plymouth volare  \n",
      "257          78       1                        amc concord  \n",
      "258          78       1              buick century special  \n",
      "259          78       1                     mercury zephyr  \n",
      "260          78       1                        dodge aspen  \n",
      "261          78       1                    amc concord d/l  \n",
      "262          78       1       chevrolet monte carlo landau  \n",
      "263          78       1    buick regal sport coupe (turbo)  \n",
      "264          78       1                        ford futura  \n",
      "265          78       1                    dodge magnum xe  \n",
      "266          78       1                 chevrolet chevette  \n",
      "267          78       3                      toyota corona  \n",
      "268          78       3                         datsun 510  \n",
      "269          78       1                         dodge omni  \n",
      "270          78       3          toyota celica gt liftback  \n",
      "271          78       1                   plymouth sapporo  \n",
      "272          78       1             oldsmobile starfire sx  \n",
      "273          78       3                      datsun 200-sx  \n",
      "274          78       2                          audi 5000  \n",
      "275          78       2                        volvo 264gl  \n",
      "276          78       2                         saab 99gle  \n",
      "277          78       2                      peugeot 604sl  \n",
      "278          78       2                volkswagen scirocco  \n",
      "279          78       3                    honda accord lx  \n",
      "79\n",
      "      mpg  cylinders  displacement horsepower  weight  acceleration  \\\n",
      "280  21.5          6         231.0        115    3245          15.4   \n",
      "281  19.8          6         200.0         85    2990          18.2   \n",
      "282  22.3          4         140.0         88    2890          17.3   \n",
      "283  20.2          6         232.0         90    3265          18.2   \n",
      "284  20.6          6         225.0        110    3360          16.6   \n",
      "285  17.0          8         305.0        130    3840          15.4   \n",
      "286  17.6          8         302.0        129    3725          13.4   \n",
      "287  16.5          8         351.0        138    3955          13.2   \n",
      "288  18.2          8         318.0        135    3830          15.2   \n",
      "289  16.9          8         350.0        155    4360          14.9   \n",
      "290  15.5          8         351.0        142    4054          14.3   \n",
      "291  19.2          8         267.0        125    3605          15.0   \n",
      "292  18.5          8         360.0        150    3940          13.0   \n",
      "293  31.9          4          89.0         71    1925          14.0   \n",
      "294  34.1          4          86.0         65    1975          15.2   \n",
      "295  35.7          4          98.0         80    1915          14.4   \n",
      "296  27.4          4         121.0         80    2670          15.0   \n",
      "297  25.4          5         183.0         77    3530          20.1   \n",
      "298  23.0          8         350.0        125    3900          17.4   \n",
      "299  27.2          4         141.0         71    3190          24.8   \n",
      "300  23.9          8         260.0         90    3420          22.2   \n",
      "301  34.2          4         105.0         70    2200          13.2   \n",
      "302  34.5          4         105.0         70    2150          14.9   \n",
      "303  31.8          4          85.0         65    2020          19.2   \n",
      "304  37.3          4          91.0         69    2130          14.7   \n",
      "305  28.4          4         151.0         90    2670          16.0   \n",
      "306  28.8          6         173.0        115    2595          11.3   \n",
      "307  26.8          6         173.0        115    2700          12.9   \n",
      "308  33.5          4         151.0         90    2556          13.2   \n",
      "\n",
      "     model year  origin                              car name  \n",
      "280          79       1                     pontiac lemans v6  \n",
      "281          79       1                      mercury zephyr 6  \n",
      "282          79       1                       ford fairmont 4  \n",
      "283          79       1                      amc concord dl 6  \n",
      "284          79       1                         dodge aspen 6  \n",
      "285          79       1             chevrolet caprice classic  \n",
      "286          79       1                       ford ltd landau  \n",
      "287          79       1                 mercury grand marquis  \n",
      "288          79       1                       dodge st. regis  \n",
      "289          79       1               buick estate wagon (sw)  \n",
      "290          79       1              ford country squire (sw)  \n",
      "291          79       1         chevrolet malibu classic (sw)  \n",
      "292          79       1  chrysler lebaron town @ country (sw)  \n",
      "293          79       2                      vw rabbit custom  \n",
      "294          79       3                      maxda glc deluxe  \n",
      "295          79       1           dodge colt hatchback custom  \n",
      "296          79       1                         amc spirit dl  \n",
      "297          79       2                    mercedes benz 300d  \n",
      "298          79       1                     cadillac eldorado  \n",
      "299          79       2                           peugeot 504  \n",
      "300          79       1     oldsmobile cutlass salon brougham  \n",
      "301          79       1                      plymouth horizon  \n",
      "302          79       1                  plymouth horizon tc3  \n",
      "303          79       3                            datsun 210  \n",
      "304          79       2                    fiat strada custom  \n",
      "305          79       1                 buick skylark limited  \n",
      "306          79       1                    chevrolet citation  \n",
      "307          79       1             oldsmobile omega brougham  \n",
      "308          79       1                       pontiac phoenix  \n",
      "80\n",
      "      mpg  cylinders  displacement horsepower  weight  acceleration  \\\n",
      "309  41.5          4          98.0         76    2144          14.7   \n",
      "310  38.1          4          89.0         60    1968          18.8   \n",
      "311  32.1          4          98.0         70    2120          15.5   \n",
      "312  37.2          4          86.0         65    2019          16.4   \n",
      "313  28.0          4         151.0         90    2678          16.5   \n",
      "314  26.4          4         140.0         88    2870          18.1   \n",
      "315  24.3          4         151.0         90    3003          20.1   \n",
      "316  19.1          6         225.0         90    3381          18.7   \n",
      "317  34.3          4          97.0         78    2188          15.8   \n",
      "318  29.8          4         134.0         90    2711          15.5   \n",
      "319  31.3          4         120.0         75    2542          17.5   \n",
      "320  37.0          4         119.0         92    2434          15.0   \n",
      "321  32.2          4         108.0         75    2265          15.2   \n",
      "322  46.6          4          86.0         65    2110          17.9   \n",
      "323  27.9          4         156.0        105    2800          14.4   \n",
      "324  40.8          4          85.0         65    2110          19.2   \n",
      "325  44.3          4          90.0         48    2085          21.7   \n",
      "326  43.4          4          90.0         48    2335          23.7   \n",
      "327  36.4          5         121.0         67    2950          19.9   \n",
      "328  30.0          4         146.0         67    3250          21.8   \n",
      "329  44.6          4          91.0         67    1850          13.8   \n",
      "330  40.9          4          85.0          ?    1835          17.3   \n",
      "331  33.8          4          97.0         67    2145          18.0   \n",
      "332  29.8          4          89.0         62    1845          15.3   \n",
      "333  32.7          6         168.0        132    2910          11.4   \n",
      "334  23.7          3          70.0        100    2420          12.5   \n",
      "335  35.0          4         122.0         88    2500          15.1   \n",
      "336  23.6          4         140.0          ?    2905          14.3   \n",
      "337  32.4          4         107.0         72    2290          17.0   \n",
      "\n",
      "     model year  origin                car name  \n",
      "309          80       2               vw rabbit  \n",
      "310          80       3   toyota corolla tercel  \n",
      "311          80       1      chevrolet chevette  \n",
      "312          80       3              datsun 310  \n",
      "313          80       1      chevrolet citation  \n",
      "314          80       1           ford fairmont  \n",
      "315          80       1             amc concord  \n",
      "316          80       1             dodge aspen  \n",
      "317          80       2               audi 4000  \n",
      "318          80       3  toyota corona liftback  \n",
      "319          80       3               mazda 626  \n",
      "320          80       3    datsun 510 hatchback  \n",
      "321          80       3          toyota corolla  \n",
      "322          80       3               mazda glc  \n",
      "323          80       1              dodge colt  \n",
      "324          80       3              datsun 210  \n",
      "325          80       2    vw rabbit c (diesel)  \n",
      "326          80       2      vw dasher (diesel)  \n",
      "327          80       2     audi 5000s (diesel)  \n",
      "328          80       2      mercedes-benz 240d  \n",
      "329          80       3     honda civic 1500 gl  \n",
      "330          80       2    renault lecar deluxe  \n",
      "331          80       3               subaru dl  \n",
      "332          80       2        vokswagen rabbit  \n",
      "333          80       3           datsun 280-zx  \n",
      "334          80       3           mazda rx-7 gs  \n",
      "335          80       2       triumph tr7 coupe  \n",
      "336          80       1      ford mustang cobra  \n",
      "337          80       3            honda accord  \n",
      "81\n",
      "      mpg  cylinders  displacement horsepower  weight  acceleration  \\\n",
      "338  27.2          4         135.0         84    2490          15.7   \n",
      "339  26.6          4         151.0         84    2635          16.4   \n",
      "340  25.8          4         156.0         92    2620          14.4   \n",
      "341  23.5          6         173.0        110    2725          12.6   \n",
      "342  30.0          4         135.0         84    2385          12.9   \n",
      "343  39.1          4          79.0         58    1755          16.9   \n",
      "344  39.0          4          86.0         64    1875          16.4   \n",
      "345  35.1          4          81.0         60    1760          16.1   \n",
      "346  32.3          4          97.0         67    2065          17.8   \n",
      "347  37.0          4          85.0         65    1975          19.4   \n",
      "348  37.7          4          89.0         62    2050          17.3   \n",
      "349  34.1          4          91.0         68    1985          16.0   \n",
      "350  34.7          4         105.0         63    2215          14.9   \n",
      "351  34.4          4          98.0         65    2045          16.2   \n",
      "352  29.9          4          98.0         65    2380          20.7   \n",
      "353  33.0          4         105.0         74    2190          14.2   \n",
      "354  34.5          4         100.0          ?    2320          15.8   \n",
      "355  33.7          4         107.0         75    2210          14.4   \n",
      "356  32.4          4         108.0         75    2350          16.8   \n",
      "357  32.9          4         119.0        100    2615          14.8   \n",
      "358  31.6          4         120.0         74    2635          18.3   \n",
      "359  28.1          4         141.0         80    3230          20.4   \n",
      "360  30.7          6         145.0         76    3160          19.6   \n",
      "361  25.4          6         168.0        116    2900          12.6   \n",
      "362  24.2          6         146.0        120    2930          13.8   \n",
      "363  22.4          6         231.0        110    3415          15.8   \n",
      "364  26.6          8         350.0        105    3725          19.0   \n",
      "365  20.2          6         200.0         88    3060          17.1   \n",
      "366  17.6          6         225.0         85    3465          16.6   \n",
      "\n",
      "     model year  origin                   car name  \n",
      "338          81       1           plymouth reliant  \n",
      "339          81       1              buick skylark  \n",
      "340          81       1     dodge aries wagon (sw)  \n",
      "341          81       1         chevrolet citation  \n",
      "342          81       1           plymouth reliant  \n",
      "343          81       3             toyota starlet  \n",
      "344          81       1             plymouth champ  \n",
      "345          81       3           honda civic 1300  \n",
      "346          81       3                     subaru  \n",
      "347          81       3             datsun 210 mpg  \n",
      "348          81       3              toyota tercel  \n",
      "349          81       3                mazda glc 4  \n",
      "350          81       1         plymouth horizon 4  \n",
      "351          81       1             ford escort 4w  \n",
      "352          81       1             ford escort 2h  \n",
      "353          81       2           volkswagen jetta  \n",
      "354          81       2                renault 18i  \n",
      "355          81       3              honda prelude  \n",
      "356          81       3             toyota corolla  \n",
      "357          81       3               datsun 200sx  \n",
      "358          81       3                  mazda 626  \n",
      "359          81       2  peugeot 505s turbo diesel  \n",
      "360          81       2               volvo diesel  \n",
      "361          81       3            toyota cressida  \n",
      "362          81       3          datsun 810 maxima  \n",
      "363          81       1              buick century  \n",
      "364          81       1      oldsmobile cutlass ls  \n",
      "365          81       1            ford granada gl  \n",
      "366          81       1     chrysler lebaron salon  \n",
      "82\n",
      "      mpg  cylinders  displacement horsepower  weight  acceleration  \\\n",
      "367  28.0          4         112.0         88    2605          19.6   \n",
      "368  27.0          4         112.0         88    2640          18.6   \n",
      "369  34.0          4         112.0         88    2395          18.0   \n",
      "370  31.0          4         112.0         85    2575          16.2   \n",
      "371  29.0          4         135.0         84    2525          16.0   \n",
      "372  27.0          4         151.0         90    2735          18.0   \n",
      "373  24.0          4         140.0         92    2865          16.4   \n",
      "374  23.0          4         151.0          ?    3035          20.5   \n",
      "375  36.0          4         105.0         74    1980          15.3   \n",
      "376  37.0          4          91.0         68    2025          18.2   \n",
      "377  31.0          4          91.0         68    1970          17.6   \n",
      "378  38.0          4         105.0         63    2125          14.7   \n",
      "379  36.0          4          98.0         70    2125          17.3   \n",
      "380  36.0          4         120.0         88    2160          14.5   \n",
      "381  36.0          4         107.0         75    2205          14.5   \n",
      "382  34.0          4         108.0         70    2245          16.9   \n",
      "383  38.0          4          91.0         67    1965          15.0   \n",
      "384  32.0          4          91.0         67    1965          15.7   \n",
      "385  38.0          4          91.0         67    1995          16.2   \n",
      "386  25.0          6         181.0        110    2945          16.4   \n",
      "387  38.0          6         262.0         85    3015          17.0   \n",
      "388  26.0          4         156.0         92    2585          14.5   \n",
      "389  22.0          6         232.0        112    2835          14.7   \n",
      "390  32.0          4         144.0         96    2665          13.9   \n",
      "391  36.0          4         135.0         84    2370          13.0   \n",
      "392  27.0          4         151.0         90    2950          17.3   \n",
      "393  27.0          4         140.0         86    2790          15.6   \n",
      "394  44.0          4          97.0         52    2130          24.6   \n",
      "395  32.0          4         135.0         84    2295          11.6   \n",
      "396  28.0          4         120.0         79    2625          18.6   \n",
      "397  31.0          4         119.0         82    2720          19.4   \n",
      "\n",
      "     model year  origin                           car name  \n",
      "367          82       1                 chevrolet cavalier  \n",
      "368          82       1           chevrolet cavalier wagon  \n",
      "369          82       1          chevrolet cavalier 2-door  \n",
      "370          82       1         pontiac j2000 se hatchback  \n",
      "371          82       1                     dodge aries se  \n",
      "372          82       1                    pontiac phoenix  \n",
      "373          82       1               ford fairmont futura  \n",
      "374          82       1                     amc concord dl  \n",
      "375          82       2                volkswagen rabbit l  \n",
      "376          82       3                 mazda glc custom l  \n",
      "377          82       3                   mazda glc custom  \n",
      "378          82       1             plymouth horizon miser  \n",
      "379          82       1                     mercury lynx l  \n",
      "380          82       3                   nissan stanza xe  \n",
      "381          82       3                       honda accord  \n",
      "382          82       3                     toyota corolla  \n",
      "383          82       3                        honda civic  \n",
      "384          82       3                 honda civic (auto)  \n",
      "385          82       3                      datsun 310 gx  \n",
      "386          82       1              buick century limited  \n",
      "387          82       1  oldsmobile cutlass ciera (diesel)  \n",
      "388          82       1         chrysler lebaron medallion  \n",
      "389          82       1                     ford granada l  \n",
      "390          82       3                   toyota celica gt  \n",
      "391          82       1                  dodge charger 2.2  \n",
      "392          82       1                   chevrolet camaro  \n",
      "393          82       1                    ford mustang gl  \n",
      "394          82       2                          vw pickup  \n",
      "395          82       1                      dodge rampage  \n",
      "396          82       1                        ford ranger  \n",
      "397          82       1                         chevy s-10  \n"
     ]
    }
   ],
   "source": [
    "for x,model_df in g:\n",
    "    print(x)\n",
    "    print(model_df)"
   ]
  },
  {
   "cell_type": "code",
   "execution_count": 172,
   "id": "30f6e4dc-d496-46a8-b9a8-b47a9921f649",
   "metadata": {},
   "outputs": [],
   "source": [
    "us_weather=pd.DataFrame({\n",
    "                           \"city\":[\"newyork\",\"chitago\",\"seatle\"],\n",
    "                           \"temperature\":[32,21,35],\n",
    "                            \"humidity\":[60,75,78]\n",
    "                           })"
   ]
  },
  {
   "cell_type": "code",
   "execution_count": 174,
   "id": "b5875f84-a0b3-41be-9799-010e9912d3a5",
   "metadata": {},
   "outputs": [
    {
     "data": {
      "text/html": [
       "<div>\n",
       "<style scoped>\n",
       "    .dataframe tbody tr th:only-of-type {\n",
       "        vertical-align: middle;\n",
       "    }\n",
       "\n",
       "    .dataframe tbody tr th {\n",
       "        vertical-align: top;\n",
       "    }\n",
       "\n",
       "    .dataframe thead th {\n",
       "        text-align: right;\n",
       "    }\n",
       "</style>\n",
       "<table border=\"1\" class=\"dataframe\">\n",
       "  <thead>\n",
       "    <tr style=\"text-align: right;\">\n",
       "      <th></th>\n",
       "      <th>city</th>\n",
       "      <th>temperature</th>\n",
       "      <th>humidity</th>\n",
       "    </tr>\n",
       "  </thead>\n",
       "  <tbody>\n",
       "    <tr>\n",
       "      <th>0</th>\n",
       "      <td>newyork</td>\n",
       "      <td>32</td>\n",
       "      <td>60</td>\n",
       "    </tr>\n",
       "    <tr>\n",
       "      <th>1</th>\n",
       "      <td>chitago</td>\n",
       "      <td>21</td>\n",
       "      <td>75</td>\n",
       "    </tr>\n",
       "    <tr>\n",
       "      <th>2</th>\n",
       "      <td>seatle</td>\n",
       "      <td>35</td>\n",
       "      <td>78</td>\n",
       "    </tr>\n",
       "  </tbody>\n",
       "</table>\n",
       "</div>"
      ],
      "text/plain": [
       "      city  temperature  humidity\n",
       "0  newyork           32        60\n",
       "1  chitago           21        75\n",
       "2   seatle           35        78"
      ]
     },
     "execution_count": 174,
     "metadata": {},
     "output_type": "execute_result"
    }
   ],
   "source": [
    "us_weather"
   ]
  },
  {
   "cell_type": "code",
   "execution_count": 176,
   "id": "6f173b39-8181-4f49-b181-cf207960242c",
   "metadata": {},
   "outputs": [],
   "source": [
    "india_weather=pd.DataFrame({\n",
    "                           \"city\":[\"banglore\",\"mumbai\",\"tvm\"],\n",
    "                           \"temperature\":[30,34,32],\n",
    "                            \"humidity\":[20,60,55]\n",
    "                           })"
   ]
  },
  {
   "cell_type": "code",
   "execution_count": 178,
   "id": "e380d256-d28f-45da-8acd-9dad0b7246ca",
   "metadata": {},
   "outputs": [
    {
     "data": {
      "text/html": [
       "<div>\n",
       "<style scoped>\n",
       "    .dataframe tbody tr th:only-of-type {\n",
       "        vertical-align: middle;\n",
       "    }\n",
       "\n",
       "    .dataframe tbody tr th {\n",
       "        vertical-align: top;\n",
       "    }\n",
       "\n",
       "    .dataframe thead th {\n",
       "        text-align: right;\n",
       "    }\n",
       "</style>\n",
       "<table border=\"1\" class=\"dataframe\">\n",
       "  <thead>\n",
       "    <tr style=\"text-align: right;\">\n",
       "      <th></th>\n",
       "      <th>city</th>\n",
       "      <th>temperature</th>\n",
       "      <th>humidity</th>\n",
       "    </tr>\n",
       "  </thead>\n",
       "  <tbody>\n",
       "    <tr>\n",
       "      <th>0</th>\n",
       "      <td>banglore</td>\n",
       "      <td>30</td>\n",
       "      <td>20</td>\n",
       "    </tr>\n",
       "    <tr>\n",
       "      <th>1</th>\n",
       "      <td>mumbai</td>\n",
       "      <td>34</td>\n",
       "      <td>60</td>\n",
       "    </tr>\n",
       "    <tr>\n",
       "      <th>2</th>\n",
       "      <td>tvm</td>\n",
       "      <td>32</td>\n",
       "      <td>55</td>\n",
       "    </tr>\n",
       "  </tbody>\n",
       "</table>\n",
       "</div>"
      ],
      "text/plain": [
       "       city  temperature  humidity\n",
       "0  banglore           30        20\n",
       "1    mumbai           34        60\n",
       "2       tvm           32        55"
      ]
     },
     "execution_count": 178,
     "metadata": {},
     "output_type": "execute_result"
    }
   ],
   "source": [
    "india_weather"
   ]
  },
  {
   "cell_type": "code",
   "execution_count": 180,
   "id": "a0cd8cf5-0052-4898-b76c-cc6c63c5958a",
   "metadata": {},
   "outputs": [
    {
     "data": {
      "text/html": [
       "<div>\n",
       "<style scoped>\n",
       "    .dataframe tbody tr th:only-of-type {\n",
       "        vertical-align: middle;\n",
       "    }\n",
       "\n",
       "    .dataframe tbody tr th {\n",
       "        vertical-align: top;\n",
       "    }\n",
       "\n",
       "    .dataframe thead th {\n",
       "        text-align: right;\n",
       "    }\n",
       "</style>\n",
       "<table border=\"1\" class=\"dataframe\">\n",
       "  <thead>\n",
       "    <tr style=\"text-align: right;\">\n",
       "      <th></th>\n",
       "      <th>city</th>\n",
       "      <th>temperature</th>\n",
       "      <th>humidity</th>\n",
       "    </tr>\n",
       "  </thead>\n",
       "  <tbody>\n",
       "    <tr>\n",
       "      <th>0</th>\n",
       "      <td>newyork</td>\n",
       "      <td>32</td>\n",
       "      <td>60</td>\n",
       "    </tr>\n",
       "    <tr>\n",
       "      <th>1</th>\n",
       "      <td>chitago</td>\n",
       "      <td>21</td>\n",
       "      <td>75</td>\n",
       "    </tr>\n",
       "    <tr>\n",
       "      <th>2</th>\n",
       "      <td>seatle</td>\n",
       "      <td>35</td>\n",
       "      <td>78</td>\n",
       "    </tr>\n",
       "    <tr>\n",
       "      <th>3</th>\n",
       "      <td>banglore</td>\n",
       "      <td>30</td>\n",
       "      <td>20</td>\n",
       "    </tr>\n",
       "    <tr>\n",
       "      <th>4</th>\n",
       "      <td>mumbai</td>\n",
       "      <td>34</td>\n",
       "      <td>60</td>\n",
       "    </tr>\n",
       "    <tr>\n",
       "      <th>5</th>\n",
       "      <td>tvm</td>\n",
       "      <td>32</td>\n",
       "      <td>55</td>\n",
       "    </tr>\n",
       "  </tbody>\n",
       "</table>\n",
       "</div>"
      ],
      "text/plain": [
       "       city  temperature  humidity\n",
       "0   newyork           32        60\n",
       "1   chitago           21        75\n",
       "2    seatle           35        78\n",
       "3  banglore           30        20\n",
       "4    mumbai           34        60\n",
       "5       tvm           32        55"
      ]
     },
     "execution_count": 180,
     "metadata": {},
     "output_type": "execute_result"
    }
   ],
   "source": [
    "weather_us_india=pd.concat([us_weather,india_weather],\\\n",
    "                           ignore_index= True)\n",
    "weather_us_india"
   ]
  },
  {
   "cell_type": "code",
   "execution_count": 182,
   "id": "8e90e942-18f1-4cb6-ad5d-2ba1c8807975",
   "metadata": {},
   "outputs": [
    {
     "data": {
      "text/plain": [
       "0    False\n",
       "1     True\n",
       "2    False\n",
       "3    False\n",
       "4    False\n",
       "5    False\n",
       "Name: temperature, dtype: bool"
      ]
     },
     "execution_count": 182,
     "metadata": {},
     "output_type": "execute_result"
    }
   ],
   "source": [
    "weather_us_india[\"temperature\"]<30"
   ]
  },
  {
   "cell_type": "code",
   "execution_count": 184,
   "id": "57f9b38a-22d7-4cc2-a6bc-986de8e3e124",
   "metadata": {},
   "outputs": [
    {
     "data": {
      "text/html": [
       "<div>\n",
       "<style scoped>\n",
       "    .dataframe tbody tr th:only-of-type {\n",
       "        vertical-align: middle;\n",
       "    }\n",
       "\n",
       "    .dataframe tbody tr th {\n",
       "        vertical-align: top;\n",
       "    }\n",
       "\n",
       "    .dataframe thead th {\n",
       "        text-align: right;\n",
       "    }\n",
       "</style>\n",
       "<table border=\"1\" class=\"dataframe\">\n",
       "  <thead>\n",
       "    <tr style=\"text-align: right;\">\n",
       "      <th></th>\n",
       "      <th>city</th>\n",
       "      <th>temperature</th>\n",
       "      <th>humidity</th>\n",
       "    </tr>\n",
       "  </thead>\n",
       "  <tbody>\n",
       "    <tr>\n",
       "      <th>0</th>\n",
       "      <td>newyork</td>\n",
       "      <td>32</td>\n",
       "      <td>60</td>\n",
       "    </tr>\n",
       "    <tr>\n",
       "      <th>1</th>\n",
       "      <td>chitago</td>\n",
       "      <td>21</td>\n",
       "      <td>75</td>\n",
       "    </tr>\n",
       "    <tr>\n",
       "      <th>2</th>\n",
       "      <td>seatle</td>\n",
       "      <td>35</td>\n",
       "      <td>78</td>\n",
       "    </tr>\n",
       "    <tr>\n",
       "      <th>3</th>\n",
       "      <td>banglore</td>\n",
       "      <td>30</td>\n",
       "      <td>20</td>\n",
       "    </tr>\n",
       "    <tr>\n",
       "      <th>4</th>\n",
       "      <td>mumbai</td>\n",
       "      <td>34</td>\n",
       "      <td>60</td>\n",
       "    </tr>\n",
       "    <tr>\n",
       "      <th>5</th>\n",
       "      <td>tvm</td>\n",
       "      <td>32</td>\n",
       "      <td>55</td>\n",
       "    </tr>\n",
       "  </tbody>\n",
       "</table>\n",
       "</div>"
      ],
      "text/plain": [
       "       city  temperature  humidity\n",
       "0   newyork           32        60\n",
       "1   chitago           21        75\n",
       "2    seatle           35        78\n",
       "3  banglore           30        20\n",
       "4    mumbai           34        60\n",
       "5       tvm           32        55"
      ]
     },
     "execution_count": 184,
     "metadata": {},
     "output_type": "execute_result"
    }
   ],
   "source": [
    "weather_us_india[weather_us_india[\"temperature\"]<30]\n",
    "weather_us_india"
   ]
  },
  {
   "cell_type": "code",
   "execution_count": 186,
   "id": "2895ea2b-d593-4e6d-b68d-941a74edbe96",
   "metadata": {},
   "outputs": [
    {
     "data": {
      "text/html": [
       "<div>\n",
       "<style scoped>\n",
       "    .dataframe tbody tr th:only-of-type {\n",
       "        vertical-align: middle;\n",
       "    }\n",
       "\n",
       "    .dataframe tbody tr th {\n",
       "        vertical-align: top;\n",
       "    }\n",
       "\n",
       "    .dataframe thead th {\n",
       "        text-align: right;\n",
       "    }\n",
       "</style>\n",
       "<table border=\"1\" class=\"dataframe\">\n",
       "  <thead>\n",
       "    <tr style=\"text-align: right;\">\n",
       "      <th></th>\n",
       "      <th>0</th>\n",
       "      <th>1</th>\n",
       "      <th>2</th>\n",
       "      <th>3</th>\n",
       "      <th>4</th>\n",
       "      <th>5</th>\n",
       "    </tr>\n",
       "  </thead>\n",
       "  <tbody>\n",
       "    <tr>\n",
       "      <th>0</th>\n",
       "      <td>newyork</td>\n",
       "      <td>32</td>\n",
       "      <td>60</td>\n",
       "      <td>banglore</td>\n",
       "      <td>30</td>\n",
       "      <td>20</td>\n",
       "    </tr>\n",
       "    <tr>\n",
       "      <th>1</th>\n",
       "      <td>chitago</td>\n",
       "      <td>21</td>\n",
       "      <td>75</td>\n",
       "      <td>mumbai</td>\n",
       "      <td>34</td>\n",
       "      <td>60</td>\n",
       "    </tr>\n",
       "    <tr>\n",
       "      <th>2</th>\n",
       "      <td>seatle</td>\n",
       "      <td>35</td>\n",
       "      <td>78</td>\n",
       "      <td>tvm</td>\n",
       "      <td>32</td>\n",
       "      <td>55</td>\n",
       "    </tr>\n",
       "  </tbody>\n",
       "</table>\n",
       "</div>"
      ],
      "text/plain": [
       "         0   1   2         3   4   5\n",
       "0  newyork  32  60  banglore  30  20\n",
       "1  chitago  21  75    mumbai  34  60\n",
       "2   seatle  35  78       tvm  32  55"
      ]
     },
     "execution_count": 186,
     "metadata": {},
     "output_type": "execute_result"
    }
   ],
   "source": [
    "weather_us_india=pd.concat([us_weather,india_weather],\\\n",
    "                           ignore_index= True,axis=1)\n",
    "weather_us_india"
   ]
  },
  {
   "cell_type": "code",
   "execution_count": 192,
   "id": "acdba7ae-6b9d-4035-8647-63c667b9b29c",
   "metadata": {},
   "outputs": [
    {
     "data": {
      "text/html": [
       "<div>\n",
       "<style scoped>\n",
       "    .dataframe tbody tr th:only-of-type {\n",
       "        vertical-align: middle;\n",
       "    }\n",
       "\n",
       "    .dataframe tbody tr th {\n",
       "        vertical-align: top;\n",
       "    }\n",
       "\n",
       "    .dataframe thead th {\n",
       "        text-align: right;\n",
       "    }\n",
       "</style>\n",
       "<table border=\"1\" class=\"dataframe\">\n",
       "  <thead>\n",
       "    <tr style=\"text-align: right;\">\n",
       "      <th></th>\n",
       "      <th>city_x</th>\n",
       "      <th>temperature</th>\n",
       "      <th>humidity_x</th>\n",
       "      <th>city_y</th>\n",
       "      <th>humidity_y</th>\n",
       "    </tr>\n",
       "  </thead>\n",
       "  <tbody>\n",
       "    <tr>\n",
       "      <th>0</th>\n",
       "      <td>tvm</td>\n",
       "      <td>32</td>\n",
       "      <td>55</td>\n",
       "      <td>newyork</td>\n",
       "      <td>60</td>\n",
       "    </tr>\n",
       "  </tbody>\n",
       "</table>\n",
       "</div>"
      ],
      "text/plain": [
       "  city_x  temperature  humidity_x   city_y  humidity_y\n",
       "0    tvm           32          55  newyork          60"
      ]
     },
     "execution_count": 192,
     "metadata": {},
     "output_type": "execute_result"
    }
   ],
   "source": [
    "pd.merge(india_weather,us_weather, on=\"temperature\") #Places that have same temperature"
   ]
  },
  {
   "cell_type": "code",
   "execution_count": 194,
   "id": "257e963a-16d1-48ff-a995-e50395c3ea8a",
   "metadata": {},
   "outputs": [
    {
     "data": {
      "text/plain": [
       "0    4\n",
       "Name: 45, dtype: int64"
      ]
     },
     "execution_count": 194,
     "metadata": {},
     "output_type": "execute_result"
    }
   ],
   "source": [
    "df=pd.DataFrame([1,2,3,4], index=[48,43,21,45])# Index\n",
    "df.loc[45]"
   ]
  },
  {
   "cell_type": "markdown",
   "id": "25f91116-10c3-476f-915c-d8e543d5cd32",
   "metadata": {},
   "source": [
    "## Series"
   ]
  },
  {
   "cell_type": "code",
   "execution_count": 205,
   "id": "f527b69f-9957-401d-bb95-bd93c9b1266d",
   "metadata": {},
   "outputs": [
    {
     "data": {
      "text/plain": [
       "day1    12\n",
       "day2    -6\n",
       "day3     8\n",
       "day4    -3\n",
       "dtype: int64"
      ]
     },
     "execution_count": 205,
     "metadata": {},
     "output_type": "execute_result"
    }
   ],
   "source": [
    "city1=pd.Series([12,-6,8,-3], index= [\"day1\",\"day2\",\"day3\",\"day4\"])\n",
    "city1                                                                #series"
   ]
  },
  {
   "cell_type": "code",
   "execution_count": 207,
   "id": "c7ccc8bb-988f-464f-8af4-6d2448454705",
   "metadata": {},
   "outputs": [
    {
     "data": {
      "text/plain": [
       "day1    False\n",
       "day2    False\n",
       "day3    False\n",
       "day4    False\n",
       "dtype: bool"
      ]
     },
     "execution_count": 207,
     "metadata": {},
     "output_type": "execute_result"
    }
   ],
   "source": [
    "city1.isna()    #missingvalue"
   ]
  },
  {
   "cell_type": "code",
   "execution_count": 209,
   "id": "67ba2dba-1ba0-4100-8b03-4ed10cc25c32",
   "metadata": {},
   "outputs": [
    {
     "data": {
      "text/plain": [
       "0    0\n",
       "dtype: int64"
      ]
     },
     "execution_count": 209,
     "metadata": {},
     "output_type": "execute_result"
    }
   ],
   "source": [
    "df.isna().sum()"
   ]
  },
  {
   "cell_type": "code",
   "execution_count": 215,
   "id": "13b844d5-12de-4ac1-89ce-20991ee791bb",
   "metadata": {},
   "outputs": [
    {
     "data": {
      "text/plain": [
       "array(['chevrolet chevelle malibu', 'buick skylark 320',\n",
       "       'plymouth satellite', 'amc rebel sst', 'ford torino',\n",
       "       'ford galaxie 500', 'chevrolet impala', 'plymouth fury iii',\n",
       "       'pontiac catalina', 'amc ambassador dpl', 'dodge challenger se',\n",
       "       \"plymouth 'cuda 340\", 'chevrolet monte carlo',\n",
       "       'buick estate wagon (sw)', 'toyota corona mark ii',\n",
       "       'plymouth duster', 'amc hornet', 'ford maverick', 'datsun pl510',\n",
       "       'volkswagen 1131 deluxe sedan', 'peugeot 504', 'audi 100 ls',\n",
       "       'saab 99e', 'bmw 2002', 'amc gremlin', 'ford f250', 'chevy c20',\n",
       "       'dodge d200', 'hi 1200d', 'chevrolet vega 2300', 'toyota corona',\n",
       "       'ford pinto', 'plymouth satellite custom', 'ford torino 500',\n",
       "       'amc matador', 'pontiac catalina brougham', 'dodge monaco (sw)',\n",
       "       'ford country squire (sw)', 'pontiac safari (sw)',\n",
       "       'amc hornet sportabout (sw)', 'chevrolet vega (sw)',\n",
       "       'pontiac firebird', 'ford mustang', 'mercury capri 2000',\n",
       "       'opel 1900', 'peugeot 304', 'fiat 124b', 'toyota corolla 1200',\n",
       "       'datsun 1200', 'volkswagen model 111', 'plymouth cricket',\n",
       "       'toyota corona hardtop', 'dodge colt hardtop', 'volkswagen type 3',\n",
       "       'chevrolet vega', 'ford pinto runabout', 'amc ambassador sst',\n",
       "       'mercury marquis', 'buick lesabre custom',\n",
       "       'oldsmobile delta 88 royale', 'chrysler newport royal',\n",
       "       'mazda rx2 coupe', 'amc matador (sw)',\n",
       "       'chevrolet chevelle concours (sw)', 'ford gran torino (sw)',\n",
       "       'plymouth satellite custom (sw)', 'volvo 145e (sw)',\n",
       "       'volkswagen 411 (sw)', 'peugeot 504 (sw)', 'renault 12 (sw)',\n",
       "       'ford pinto (sw)', 'datsun 510 (sw)',\n",
       "       'toyouta corona mark ii (sw)', 'dodge colt (sw)',\n",
       "       'toyota corolla 1600 (sw)', 'buick century 350',\n",
       "       'chevrolet malibu', 'ford gran torino', 'dodge coronet custom',\n",
       "       'mercury marquis brougham', 'chevrolet caprice classic',\n",
       "       'ford ltd', 'plymouth fury gran sedan',\n",
       "       'chrysler new yorker brougham', 'buick electra 225 custom',\n",
       "       'amc ambassador brougham', 'plymouth valiant',\n",
       "       'chevrolet nova custom', 'volkswagen super beetle', 'ford country',\n",
       "       'plymouth custom suburb', 'oldsmobile vista cruiser',\n",
       "       'toyota carina', 'datsun 610', 'maxda rx3', 'mercury capri v6',\n",
       "       'fiat 124 sport coupe', 'chevrolet monte carlo s',\n",
       "       'pontiac grand prix', 'fiat 128', 'opel manta', 'audi 100ls',\n",
       "       'volvo 144ea', 'dodge dart custom', 'saab 99le', 'toyota mark ii',\n",
       "       'oldsmobile omega', 'chevrolet nova', 'datsun b210',\n",
       "       'chevrolet chevelle malibu classic', 'plymouth satellite sebring',\n",
       "       'buick century luxus (sw)', 'dodge coronet custom (sw)',\n",
       "       'audi fox', 'volkswagen dasher', 'datsun 710', 'dodge colt',\n",
       "       'fiat 124 tc', 'honda civic', 'subaru', 'fiat x1.9',\n",
       "       'plymouth valiant custom', 'mercury monarch', 'chevrolet bel air',\n",
       "       'plymouth grand fury', 'buick century',\n",
       "       'chevroelt chevelle malibu', 'plymouth fury', 'buick skyhawk',\n",
       "       'chevrolet monza 2+2', 'ford mustang ii', 'toyota corolla',\n",
       "       'pontiac astro', 'volkswagen rabbit', 'amc pacer', 'volvo 244dl',\n",
       "       'honda civic cvcc', 'fiat 131', 'capri ii', 'renault 12tl',\n",
       "       'dodge coronet brougham', 'chevrolet chevette', 'chevrolet woody',\n",
       "       'vw rabbit', 'dodge aspen se', 'ford granada ghia',\n",
       "       'pontiac ventura sj', 'amc pacer d/l', 'datsun b-210', 'volvo 245',\n",
       "       'plymouth volare premier v8', 'mercedes-benz 280s',\n",
       "       'cadillac seville', 'chevy c10', 'ford f108', 'dodge d100',\n",
       "       'honda accord cvcc', 'buick opel isuzu deluxe', 'renault 5 gtl',\n",
       "       'plymouth arrow gs', 'datsun f-10 hatchback',\n",
       "       'oldsmobile cutlass supreme', 'dodge monaco brougham',\n",
       "       'mercury cougar brougham', 'chevrolet concours', 'buick skylark',\n",
       "       'plymouth volare custom', 'ford granada', 'pontiac grand prix lj',\n",
       "       'chevrolet monte carlo landau', 'chrysler cordoba',\n",
       "       'ford thunderbird', 'volkswagen rabbit custom',\n",
       "       'pontiac sunbird coupe', 'toyota corolla liftback',\n",
       "       'ford mustang ii 2+2', 'dodge colt m/m', 'subaru dl', 'datsun 810',\n",
       "       'bmw 320i', 'mazda rx-4', 'volkswagen rabbit custom diesel',\n",
       "       'ford fiesta', 'mazda glc deluxe', 'datsun b210 gx',\n",
       "       'oldsmobile cutlass salon brougham', 'dodge diplomat',\n",
       "       'mercury monarch ghia', 'pontiac phoenix lj',\n",
       "       'ford fairmont (auto)', 'ford fairmont (man)', 'plymouth volare',\n",
       "       'amc concord', 'buick century special', 'mercury zephyr',\n",
       "       'dodge aspen', 'amc concord d/l',\n",
       "       'buick regal sport coupe (turbo)', 'ford futura',\n",
       "       'dodge magnum xe', 'datsun 510', 'dodge omni',\n",
       "       'toyota celica gt liftback', 'plymouth sapporo',\n",
       "       'oldsmobile starfire sx', 'datsun 200-sx', 'audi 5000',\n",
       "       'volvo 264gl', 'saab 99gle', 'peugeot 604sl',\n",
       "       'volkswagen scirocco', 'honda accord lx', 'pontiac lemans v6',\n",
       "       'mercury zephyr 6', 'ford fairmont 4', 'amc concord dl 6',\n",
       "       'dodge aspen 6', 'ford ltd landau', 'mercury grand marquis',\n",
       "       'dodge st. regis', 'chevrolet malibu classic (sw)',\n",
       "       'chrysler lebaron town @ country (sw)', 'vw rabbit custom',\n",
       "       'maxda glc deluxe', 'dodge colt hatchback custom', 'amc spirit dl',\n",
       "       'mercedes benz 300d', 'cadillac eldorado', 'plymouth horizon',\n",
       "       'plymouth horizon tc3', 'datsun 210', 'fiat strada custom',\n",
       "       'buick skylark limited', 'chevrolet citation',\n",
       "       'oldsmobile omega brougham', 'pontiac phoenix',\n",
       "       'toyota corolla tercel', 'datsun 310', 'ford fairmont',\n",
       "       'audi 4000', 'toyota corona liftback', 'mazda 626',\n",
       "       'datsun 510 hatchback', 'mazda glc', 'vw rabbit c (diesel)',\n",
       "       'vw dasher (diesel)', 'audi 5000s (diesel)', 'mercedes-benz 240d',\n",
       "       'honda civic 1500 gl', 'renault lecar deluxe', 'vokswagen rabbit',\n",
       "       'datsun 280-zx', 'mazda rx-7 gs', 'triumph tr7 coupe',\n",
       "       'ford mustang cobra', 'honda accord', 'plymouth reliant',\n",
       "       'dodge aries wagon (sw)', 'toyota starlet', 'plymouth champ',\n",
       "       'honda civic 1300', 'datsun 210 mpg', 'toyota tercel',\n",
       "       'mazda glc 4', 'plymouth horizon 4', 'ford escort 4w',\n",
       "       'ford escort 2h', 'volkswagen jetta', 'renault 18i',\n",
       "       'honda prelude', 'datsun 200sx', 'peugeot 505s turbo diesel',\n",
       "       'volvo diesel', 'toyota cressida', 'datsun 810 maxima',\n",
       "       'oldsmobile cutlass ls', 'ford granada gl',\n",
       "       'chrysler lebaron salon', 'chevrolet cavalier',\n",
       "       'chevrolet cavalier wagon', 'chevrolet cavalier 2-door',\n",
       "       'pontiac j2000 se hatchback', 'dodge aries se',\n",
       "       'ford fairmont futura', 'amc concord dl', 'volkswagen rabbit l',\n",
       "       'mazda glc custom l', 'mazda glc custom', 'plymouth horizon miser',\n",
       "       'mercury lynx l', 'nissan stanza xe', 'honda civic (auto)',\n",
       "       'datsun 310 gx', 'buick century limited',\n",
       "       'oldsmobile cutlass ciera (diesel)', 'chrysler lebaron medallion',\n",
       "       'ford granada l', 'toyota celica gt', 'dodge charger 2.2',\n",
       "       'chevrolet camaro', 'ford mustang gl', 'vw pickup',\n",
       "       'dodge rampage', 'ford ranger', 'chevy s-10'], dtype=object)"
      ]
     },
     "execution_count": 215,
     "metadata": {},
     "output_type": "execute_result"
    }
   ],
   "source": [
    "df= pd.read_csv(\"D:\\\\ICT_DataScience\\\\Excel worksheet\\\\auto-mpg.csv\")\n",
    "df[\"car name\"].unique()"
   ]
  },
  {
   "cell_type": "code",
   "execution_count": 217,
   "id": "8b64f2db-4c51-4f9d-876a-c9f1d4c16954",
   "metadata": {},
   "outputs": [
    {
     "data": {
      "text/plain": [
       "cylinders\n",
       "4    204\n",
       "8    103\n",
       "6     84\n",
       "3      4\n",
       "5      3\n",
       "Name: count, dtype: int64"
      ]
     },
     "execution_count": 217,
     "metadata": {},
     "output_type": "execute_result"
    }
   ],
   "source": [
    "df[\"cylinders\"].value_counts()  "
   ]
  },
  {
   "cell_type": "code",
   "execution_count": 219,
   "id": "1474c25a-3c69-4f43-acc8-b77566105f99",
   "metadata": {},
   "outputs": [
    {
     "data": {
      "text/plain": [
       "array([[18.0, 8, 307.0, ..., 70, 1, 'chevrolet chevelle malibu'],\n",
       "       [15.0, 8, 350.0, ..., 70, 1, 'buick skylark 320'],\n",
       "       [18.0, 8, 318.0, ..., 70, 1, 'plymouth satellite'],\n",
       "       ...,\n",
       "       [32.0, 4, 135.0, ..., 82, 1, 'dodge rampage'],\n",
       "       [28.0, 4, 120.0, ..., 82, 1, 'ford ranger'],\n",
       "       [31.0, 4, 119.0, ..., 82, 1, 'chevy s-10']], dtype=object)"
      ]
     },
     "execution_count": 219,
     "metadata": {},
     "output_type": "execute_result"
    }
   ],
   "source": [
    "df.values#return call numpy"
   ]
  },
  {
   "cell_type": "code",
   "execution_count": 221,
   "id": "93542747-da41-4a96-b658-96af5ce15da9",
   "metadata": {},
   "outputs": [],
   "source": [
    "#drop the column\n",
    "car_new=df.drop([\"origin\",\"car name\"],axis=1)"
   ]
  },
  {
   "cell_type": "code",
   "execution_count": 223,
   "id": "ae3d9023-4e7a-45a4-bf68-2d14f1e26a4e",
   "metadata": {},
   "outputs": [
    {
     "data": {
      "text/html": [
       "<div>\n",
       "<style scoped>\n",
       "    .dataframe tbody tr th:only-of-type {\n",
       "        vertical-align: middle;\n",
       "    }\n",
       "\n",
       "    .dataframe tbody tr th {\n",
       "        vertical-align: top;\n",
       "    }\n",
       "\n",
       "    .dataframe thead th {\n",
       "        text-align: right;\n",
       "    }\n",
       "</style>\n",
       "<table border=\"1\" class=\"dataframe\">\n",
       "  <thead>\n",
       "    <tr style=\"text-align: right;\">\n",
       "      <th></th>\n",
       "      <th>mpg</th>\n",
       "      <th>cylinders</th>\n",
       "      <th>displacement</th>\n",
       "      <th>horsepower</th>\n",
       "      <th>weight</th>\n",
       "      <th>acceleration</th>\n",
       "      <th>model year</th>\n",
       "    </tr>\n",
       "  </thead>\n",
       "  <tbody>\n",
       "    <tr>\n",
       "      <th>0</th>\n",
       "      <td>18.0</td>\n",
       "      <td>8</td>\n",
       "      <td>307.0</td>\n",
       "      <td>130</td>\n",
       "      <td>3504</td>\n",
       "      <td>12.0</td>\n",
       "      <td>70</td>\n",
       "    </tr>\n",
       "    <tr>\n",
       "      <th>1</th>\n",
       "      <td>15.0</td>\n",
       "      <td>8</td>\n",
       "      <td>350.0</td>\n",
       "      <td>165</td>\n",
       "      <td>3693</td>\n",
       "      <td>11.5</td>\n",
       "      <td>70</td>\n",
       "    </tr>\n",
       "    <tr>\n",
       "      <th>2</th>\n",
       "      <td>18.0</td>\n",
       "      <td>8</td>\n",
       "      <td>318.0</td>\n",
       "      <td>150</td>\n",
       "      <td>3436</td>\n",
       "      <td>11.0</td>\n",
       "      <td>70</td>\n",
       "    </tr>\n",
       "    <tr>\n",
       "      <th>3</th>\n",
       "      <td>16.0</td>\n",
       "      <td>8</td>\n",
       "      <td>304.0</td>\n",
       "      <td>150</td>\n",
       "      <td>3433</td>\n",
       "      <td>12.0</td>\n",
       "      <td>70</td>\n",
       "    </tr>\n",
       "    <tr>\n",
       "      <th>4</th>\n",
       "      <td>17.0</td>\n",
       "      <td>8</td>\n",
       "      <td>302.0</td>\n",
       "      <td>140</td>\n",
       "      <td>3449</td>\n",
       "      <td>10.5</td>\n",
       "      <td>70</td>\n",
       "    </tr>\n",
       "    <tr>\n",
       "      <th>...</th>\n",
       "      <td>...</td>\n",
       "      <td>...</td>\n",
       "      <td>...</td>\n",
       "      <td>...</td>\n",
       "      <td>...</td>\n",
       "      <td>...</td>\n",
       "      <td>...</td>\n",
       "    </tr>\n",
       "    <tr>\n",
       "      <th>393</th>\n",
       "      <td>27.0</td>\n",
       "      <td>4</td>\n",
       "      <td>140.0</td>\n",
       "      <td>86</td>\n",
       "      <td>2790</td>\n",
       "      <td>15.6</td>\n",
       "      <td>82</td>\n",
       "    </tr>\n",
       "    <tr>\n",
       "      <th>394</th>\n",
       "      <td>44.0</td>\n",
       "      <td>4</td>\n",
       "      <td>97.0</td>\n",
       "      <td>52</td>\n",
       "      <td>2130</td>\n",
       "      <td>24.6</td>\n",
       "      <td>82</td>\n",
       "    </tr>\n",
       "    <tr>\n",
       "      <th>395</th>\n",
       "      <td>32.0</td>\n",
       "      <td>4</td>\n",
       "      <td>135.0</td>\n",
       "      <td>84</td>\n",
       "      <td>2295</td>\n",
       "      <td>11.6</td>\n",
       "      <td>82</td>\n",
       "    </tr>\n",
       "    <tr>\n",
       "      <th>396</th>\n",
       "      <td>28.0</td>\n",
       "      <td>4</td>\n",
       "      <td>120.0</td>\n",
       "      <td>79</td>\n",
       "      <td>2625</td>\n",
       "      <td>18.6</td>\n",
       "      <td>82</td>\n",
       "    </tr>\n",
       "    <tr>\n",
       "      <th>397</th>\n",
       "      <td>31.0</td>\n",
       "      <td>4</td>\n",
       "      <td>119.0</td>\n",
       "      <td>82</td>\n",
       "      <td>2720</td>\n",
       "      <td>19.4</td>\n",
       "      <td>82</td>\n",
       "    </tr>\n",
       "  </tbody>\n",
       "</table>\n",
       "<p>398 rows × 7 columns</p>\n",
       "</div>"
      ],
      "text/plain": [
       "      mpg  cylinders  displacement horsepower  weight  acceleration  \\\n",
       "0    18.0          8         307.0        130    3504          12.0   \n",
       "1    15.0          8         350.0        165    3693          11.5   \n",
       "2    18.0          8         318.0        150    3436          11.0   \n",
       "3    16.0          8         304.0        150    3433          12.0   \n",
       "4    17.0          8         302.0        140    3449          10.5   \n",
       "..    ...        ...           ...        ...     ...           ...   \n",
       "393  27.0          4         140.0         86    2790          15.6   \n",
       "394  44.0          4          97.0         52    2130          24.6   \n",
       "395  32.0          4         135.0         84    2295          11.6   \n",
       "396  28.0          4         120.0         79    2625          18.6   \n",
       "397  31.0          4         119.0         82    2720          19.4   \n",
       "\n",
       "     model year  \n",
       "0            70  \n",
       "1            70  \n",
       "2            70  \n",
       "3            70  \n",
       "4            70  \n",
       "..          ...  \n",
       "393          82  \n",
       "394          82  \n",
       "395          82  \n",
       "396          82  \n",
       "397          82  \n",
       "\n",
       "[398 rows x 7 columns]"
      ]
     },
     "execution_count": 223,
     "metadata": {},
     "output_type": "execute_result"
    }
   ],
   "source": [
    "car_new"
   ]
  },
  {
   "cell_type": "code",
   "execution_count": null,
   "id": "529eb896-4f0b-4458-98e7-e90c1fa69468",
   "metadata": {},
   "outputs": [],
   "source": []
  },
  {
   "cell_type": "code",
   "execution_count": null,
   "id": "69c69815-9218-4eb8-b801-904d8db850ec",
   "metadata": {},
   "outputs": [],
   "source": []
  },
  {
   "cell_type": "code",
   "execution_count": null,
   "id": "a264f765-ed24-4808-9ba9-dbbbf1f0ffc4",
   "metadata": {},
   "outputs": [],
   "source": []
  }
 ],
 "metadata": {
  "kernelspec": {
   "display_name": "Python 3 (ipykernel)",
   "language": "python",
   "name": "python3"
  },
  "language_info": {
   "codemirror_mode": {
    "name": "ipython",
    "version": 3
   },
   "file_extension": ".py",
   "mimetype": "text/x-python",
   "name": "python",
   "nbconvert_exporter": "python",
   "pygments_lexer": "ipython3",
   "version": "3.12.7"
  }
 },
 "nbformat": 4,
 "nbformat_minor": 5
}
